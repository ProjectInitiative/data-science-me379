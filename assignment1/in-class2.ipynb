{
 "nbformat": 4,
 "nbformat_minor": 2,
 "metadata": {
  "language_info": {
   "name": "python",
   "codemirror_mode": {
    "name": "ipython",
    "version": 3
   },
   "version": "3.8.1-final"
  },
  "orig_nbformat": 2,
  "file_extension": ".py",
  "mimetype": "text/x-python",
  "name": "python",
  "npconvert_exporter": "python",
  "pygments_lexer": "ipython3",
  "version": 3,
  "kernelspec": {
   "name": "python3",
   "display_name": "Python 3"
  }
 },
 "cells": [
  {
   "cell_type": "code",
   "execution_count": 1,
   "metadata": {},
   "outputs": [],
   "source": [
    "import os\n",
    "import sys\n",
    "module_path = os.path.abspath(os.path.join('..'))\n",
    "if module_path not in sys.path:\n",
    "    sys.path.append(module_path)\n",
    "    \n",
    "%matplotlib inline\n",
    "\n",
    "from IPython.core.interactiveshell import InteractiveShell\n",
    "InteractiveShell.ast_node_interactivity = \"all\"\n",
    "\n",
    "import pandas as pd \n",
    "\n",
    "import sklearn\n",
    "from sklearn.model_selection import train_test_split\n",
    "from sklearn.metrics import mean_absolute_error\n",
    "\n",
    "\n",
    "# Load data\n",
    "dfMlb = pd.read_csv('./house_prices.csv')\n",
    "\n",
    "# Select target\n",
    "y = dfMlb[['Price']]\n",
    "\n",
    "# Choose \"Features\"\n",
    "x = dfMlb[['Rooms', 'Bathroom', 'Landsize', 'Latitude', 'Longitude']]\n",
    "\n",
    "# Split features into train and test sets\n",
    "x_train, x_test, y_train, y_test = train_test_split(x, y, test_size=0.2, random_state=1)\n"
   ]
  },
  {
   "cell_type": "markdown",
   "execution_count": null,
   "metadata": {},
   "outputs": [],
   "source": [
    "# Build Decision Tree Model"
   ]
  },
  {
   "cell_type": "code",
   "execution_count": 2,
   "metadata": {},
   "outputs": [
    {
     "data": {
      "text/plain": "265943.7314522826"
     },
     "execution_count": 2,
     "metadata": {},
     "output_type": "execute_result"
    },
    {
     "name": "stdout",
     "output_type": "stream",
     "text": "Max leaf nodes: 5\t\t Mean Absolute Error: 359783.60063327465\nMax leaf nodes: 50\t\t Mean Absolute Error: 265943.7314522826\nMax leaf nodes: 500\t\t Mean Absolute Error: 221352.9439085965\nMax leaf nodes: 5000\t\t Mean Absolute Error: 238098.78862204644\n"
    }
   ],
   "source": [
    "from functions import get_mae_dtr\n",
    "\n",
    "get_mae_dtr(50, x_train, y_train, x_test, y_test)\n",
    "\n",
    "for i in [5, 50, 500, 5000]:\n",
    "    mae = get_mae_dtr(i, x_train, y_train, x_test, y_test)\n",
    "    print(''.join(['Max leaf nodes: ', str(i), '\\t\\t Mean Absolute Error: ', str(mae)]))"
   ]
  },
  {
   "cell_type": "markdown",
   "execution_count": null,
   "metadata": {},
   "outputs": [],
   "source": [
    "# Build Random Forest from Model"
   ]
  },
  {
   "cell_type": "code",
   "execution_count": 3,
   "metadata": {},
   "outputs": [
    {
     "name": "stderr",
     "output_type": "stream",
     "text": "<ipython-input-3-ad7b31bb04f0>:7: DataConversionWarning: A column-vector y was passed when a 1d array was expected. Please change the shape of y to (n_samples,), for example using ravel().\n  _ = mdlRfMlb.fit(x_train, y_train)\nMAE (Random Forest): 182072.2203871561\n"
    }
   ],
   "source": [
    "from sklearn.ensemble import RandomForestRegressor\n",
    "\n",
    "# Define\n",
    "mdlRfMlb = RandomForestRegressor(random_state=1)\n",
    "\n",
    "# Fit\n",
    "_ = mdlRfMlb.fit(x_train, y_train)\n",
    "\n",
    "# Predict\n",
    "y_test_pred = mdlRfMlb.predict(x_test)\n",
    "\n",
    "# Evaluate\n",
    "mae = mean_absolute_error(y_test, y_test_pred)\n",
    "\n",
    "print(''.join(['MAE (Random Forest): ', str(mae)]))\n"
   ]
  },
  {
   "cell_type": "code",
   "execution_count": null,
   "metadata": {},
   "outputs": [],
   "source": []
  }
 ]
}