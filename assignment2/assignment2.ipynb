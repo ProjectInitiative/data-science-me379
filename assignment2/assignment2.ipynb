{
 "cells": [
  {
   "cell_type": "code",
   "execution_count": 1,
   "metadata": {},
   "outputs": [],
   "source": [
    "import os\n",
    "import sys\n",
    "module_path = os.path.abspath(os.path.join('..'))\n",
    "if module_path not in sys.path:\n",
    "    sys.path.append(module_path)\n",
    "    \n",
    "%matplotlib inline\n",
    "\n",
    "from IPython.core.interactiveshell import InteractiveShell\n",
    "InteractiveShell.ast_node_interactivity = \"all\"\n",
    "\n",
    "import pandas as pd \n",
    "import numpy as np\n",
    "\n",
    "import sklearn\n",
    "from sklearn.model_selection import train_test_split\n",
    "from sklearn.metrics import mean_absolute_error\n",
    "\n",
    "\n",
    "# Load data\n",
    "dfMlb = pd.read_csv('./house_prices.csv')\n",
    "\n",
    "# Select target\n",
    "y = dfMlb[['Price']]\n",
    "\n",
    "# Choose \"Features\"\n",
    "x = dfMlb[['Rooms', 'Bathroom', 'Landsize', 'Latitude', 'Longitude']]\n",
    "\n",
    "# Remove outliers from data set\n",
    "from scipy import stats\n",
    "outliers = (np.abs(stats.zscore(y)) < 3)\n",
    "x = x[outliers.all(axis=1)]\n",
    "y = y[outliers.all(axis=1)]\n",
    "\n",
    "# Split features into train and test sets\n",
    "x_train, x_test, y_train, y_test = train_test_split(x, y, test_size=0.002, random_state=1)\n"
   ]
  },
  {
   "cell_type": "markdown",
   "metadata": {},
   "source": [
    "# Build Random Forest from Model"
   ]
  },
  {
   "cell_type": "code",
   "execution_count": 2,
   "metadata": {},
   "outputs": [
    {
     "name": "stderr",
     "output_type": "stream",
     "text": [
      "<ipython-input-2-019f35a8d336>:8: DataConversionWarning: A column-vector y was passed when a 1d array was expected. Please change the shape of y to (n_samples,), for example using ravel().\n",
      "  _ = mdlRfMlb.fit(x_train, y_train)\n"
     ]
    },
    {
     "name": "stdout",
     "output_type": "stream",
     "text": [
      "\n",
      "Average Price: $1,075,684.08\n",
      "MAE (Random Forest): $131,526.54\n",
      "Percent error 12.23%\n"
     ]
    }
   ],
   "source": [
    "from sklearn.ensemble import RandomForestRegressor\n",
    "from functions import currency\n",
    "\n",
    "# Define\n",
    "mdlRfMlb = RandomForestRegressor(random_state=1)\n",
    "\n",
    "# Fit\n",
    "_ = mdlRfMlb.fit(x_train, y_train)\n",
    "\n",
    "# Predict\n",
    "y_test_pred = mdlRfMlb.predict(x_test)\n",
    "\n",
    "# Evaluate\n",
    "mae = mean_absolute_error(y_test, y_test_pred)\n",
    "\n",
    "y_mean = dfMlb['Price'].mean()\n",
    "\n",
    "print()\n",
    "print(''.join(['Average Price: ', currency(y_mean)]))\n",
    "print(''.join(['MAE (Random Forest): ', currency(mae)]))\n",
    "print(''.join(['Percent error ','{:.2%}'.format(mae/y_mean)]))\n"
   ]
  }
 ],
 "metadata": {
  "file_extension": ".py",
  "kernelspec": {
   "display_name": "Python 3",
   "language": "python",
   "name": "python3"
  },
  "language_info": {
   "codemirror_mode": {
    "name": "ipython",
    "version": 3
   },
   "file_extension": ".py",
   "mimetype": "text/x-python",
   "name": "python",
   "nbconvert_exporter": "python",
   "pygments_lexer": "ipython3",
   "version": "3.8.1"
  },
  "mimetype": "text/x-python",
  "name": "python",
  "npconvert_exporter": "python",
  "pygments_lexer": "ipython3",
  "version": 3
 },
 "nbformat": 4,
 "nbformat_minor": 2
}
