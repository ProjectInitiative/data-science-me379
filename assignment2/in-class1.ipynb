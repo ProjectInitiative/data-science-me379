{
 "nbformat": 4,
 "nbformat_minor": 2,
 "metadata": {
  "language_info": {
   "name": "python",
   "codemirror_mode": {
    "name": "ipython",
    "version": 3
   },
   "version": "3.8.1-final"
  },
  "orig_nbformat": 2,
  "file_extension": ".py",
  "mimetype": "text/x-python",
  "name": "python",
  "npconvert_exporter": "python",
  "pygments_lexer": "ipython3",
  "version": 3,
  "kernelspec": {
   "name": "python38164bitdatascienceme379pipenv6494dd281ccb46c894c2bd650e61d2bc",
   "display_name": "Python 3.8.1 64-bit ('data-science-me379': pipenv)"
  }
 },
 "cells": [
  {
   "cell_type": "markdown",
   "execution_count": null,
   "metadata": {},
   "outputs": [],
   "source": [
    "## Notes\n",
    "\n",
    "### Ordinal \n",
    "\n",
    "Non-numeric values i.e. strings\n",
    "You would not use string data just on its own, but you might be able to convert the string to some other useful information. i.e. converting date string to DOW\n",
    "\n",
    "### Non-Ordinal\n",
    "\n",
    "numeric values i.e. ints, floats"
   ]
  },
  {
   "cell_type": "code",
   "execution_count": 79,
   "metadata": {},
   "outputs": [],
   "source": [
    "import os\n",
    "import sys\n",
    "module_path = os.path.abspath(os.path.join('..'))\n",
    "if module_path not in sys.path:\n",
    "    sys.path.append(module_path)\n",
    "if not sys.warnoptions:\n",
    "    import warnings\n",
    "    warnings.simplefilter(\"ignore\")\n",
    "    \n",
    "%matplotlib inline\n",
    "\n",
    "from IPython.core.interactiveshell import InteractiveShell\n",
    "InteractiveShell.ast_node_interactivity = \"all\"\n",
    "\n",
    "import pandas as pd \n",
    "import numpy as np\n",
    "\n",
    "from sklearn.model_selection import train_test_split\n",
    "from sklearn.metrics import mean_absolute_error"
   ]
  },
  {
   "cell_type": "markdown",
   "execution_count": null,
   "metadata": {},
   "outputs": [],
   "source": [
    "## Load Data"
   ]
  },
  {
   "cell_type": "code",
   "execution_count": 80,
   "metadata": {},
   "outputs": [],
   "source": [
    "df = pd.read_csv('./house_prices.csv')\n",
    "\n",
    "# Select target\n",
    "y = df['Price']\n",
    "\n",
    "# Choose \"Features\"\n",
    "x = df.drop(['Price'], axis=1)\n",
    "\n",
    "# Remove outliers from data set\n",
    "# from scipy import stats\n",
    "# outliers = (np.abs(stats.zscore(y)) < 3)\n",
    "# x = x[outliers.all(axis=1)]\n",
    "# y = y[outliers.all(axis=1)]\n",
    "\n",
    "# Split features into train and test sets\n",
    "x_train, x_test, y_train, y_test = train_test_split(x, y, test_size=0.2, random_state=1)"
   ]
  },
  {
   "cell_type": "markdown",
   "execution_count": null,
   "metadata": {},
   "outputs": [],
   "source": [
    "## Build Random Forest Model"
   ]
  },
  {
   "cell_type": "code",
   "execution_count": 81,
   "metadata": {},
   "outputs": [],
   "source": [
    "\n",
    "from functions import currency\n",
    "from functions import build_score_randomforest"
   ]
  },
  {
   "cell_type": "markdown",
   "execution_count": null,
   "metadata": {},
   "outputs": [],
   "source": [
    "## Numeric Features"
   ]
  },
  {
   "cell_type": "code",
   "execution_count": 82,
   "metadata": {},
   "outputs": [],
   "source": [
    "col_num = [col for col in x.columns if x[col].dtype in ['int64', 'float64']]\n",
    "x_num = x[col_num]"
   ]
  },
  {
   "cell_type": "markdown",
   "execution_count": null,
   "metadata": {},
   "outputs": [],
   "source": [
    "## How do we deal with missing data?\n",
    "\n",
    "### Approach 1: Drop columns with missing values"
   ]
  },
  {
   "cell_type": "code",
   "execution_count": 83,
   "metadata": {},
   "outputs": [
    {
     "name": "stdout",
     "output_type": "stream",
     "text": "MAE from Approach 1 (Drop features with missing values):\n"
    },
    {
     "data": {
      "text/plain": "176556.1092096132"
     },
     "execution_count": 83,
     "metadata": {},
     "output_type": "execute_result"
    }
   ],
   "source": [
    "x_num_train, x_num_test, y_train, y_test = train_test_split(x_num, y, test_size=0.2, random_state=1)\n",
    "x_num_train = x_num_train.dropna(axis='columns')\n",
    "x_num_test = x_num_test.dropna(axis='columns')\n",
    "print('MAE from Approach 1 (Drop features with missing values):')\n",
    "build_score_randomforest(x_num_train, y_train, x_num_test, y_test)"
   ]
  },
  {
   "cell_type": "markdown",
   "execution_count": null,
   "metadata": {},
   "outputs": [],
   "source": [
    "### Approach 2: Fill missing data values with imputation"
   ]
  },
  {
   "cell_type": "code",
   "execution_count": 84,
   "metadata": {},
   "outputs": [
    {
     "name": "stdout",
     "output_type": "stream",
     "text": "MAE from Approach 2 (Replace missing features with foward fill):\n"
    },
    {
     "data": {
      "text/plain": "172541.71958447297"
     },
     "execution_count": 84,
     "metadata": {},
     "output_type": "execute_result"
    },
    {
     "name": "stdout",
     "output_type": "stream",
     "text": "MAE from Approach 2 (Replace missing features with foward fill):\n"
    },
    {
     "data": {
      "text/plain": "167656.98217318885"
     },
     "execution_count": 84,
     "metadata": {},
     "output_type": "execute_result"
    },
    {
     "name": "stdout",
     "output_type": "stream",
     "text": "MAE from Approach 2 (Replace missing features with foward fill):\n"
    },
    {
     "data": {
      "text/plain": "166170.5766405428"
     },
     "execution_count": 84,
     "metadata": {},
     "output_type": "execute_result"
    },
    {
     "data": {
      "text/plain": "(10864, 12)"
     },
     "execution_count": 84,
     "metadata": {},
     "output_type": "execute_result"
    },
    {
     "data": {
      "text/plain": "(10864,)"
     },
     "execution_count": 84,
     "metadata": {},
     "output_type": "execute_result"
    },
    {
     "data": {
      "text/plain": "(2716, 12)"
     },
     "execution_count": 84,
     "metadata": {},
     "output_type": "execute_result"
    },
    {
     "data": {
      "text/plain": "(2716,)"
     },
     "execution_count": 84,
     "metadata": {},
     "output_type": "execute_result"
    }
   ],
   "source": [
    "x_num_train, x_num_test, y_train, y_test = train_test_split(x_num, y, test_size=0.2, random_state=1)\n",
    "x_num_train = x_num_train.fillna(method='ffill')\n",
    "x_num_test = x_num_test.fillna(method='ffill')\n",
    "print('MAE from Approach 2 (Replace missing features with foward fill):')\n",
    "build_score_randomforest(x_num_train, y_train, x_num_test, y_test)\n",
    "\n",
    "# Replace with 0\n",
    "x_num_train, x_num_test, y_train, y_test = train_test_split(x_num, y, test_size=0.2, random_state=1)\n",
    "x_num_train = x_num_train.fillna(0)\n",
    "x_num_test = x_num_test.fillna(0)\n",
    "print('MAE from Approach 2 (Replace missing features with foward fill):')\n",
    "build_score_randomforest(x_num_train, y_train, x_num_test, y_test)\n",
    "\n",
    "\n",
    "# Replace with mean\n",
    "x_num_train, x_num_test, y_train, y_test = train_test_split(x_num, y, test_size=0.2, random_state=1)\n",
    "x_num_train = x_num_train.fillna(x_num_train.mean())\n",
    "x_num_test = x_num_test.fillna(x_num_train.mean())\n",
    "print('MAE from Approach 2 (Replace missing features with foward fill):')\n",
    "build_score_randomforest(x_num_train, y_train, x_num_test, y_test)"
   ]
  },
  {
   "cell_type": "code",
   "execution_count": 85,
   "metadata": {},
   "outputs": [],
   "source": [
    "# Going forward, let ups replace all missing values with the column mean in the original data\n",
    "\n",
    "x_num_train, x_num_test, y_train, y_test = train_test_split(x_num, y, test_size=0.2, random_state=1)\n",
    "x_train[col_num] = x_num_train.fillna(x_num_train.mean())\n",
    "x_test[col_num] = x_num_test.fillna(x_num_train.mean())"
   ]
  },
  {
   "cell_type": "markdown",
   "metadata": {},
   "source": [
    "## Non-numeric Features"
   ]
  },
  {
   "cell_type": "code",
   "execution_count": 86,
   "metadata": {},
   "outputs": [
    {
     "data": {
      "text/plain": "Suburb            object\nAddress           object\nRooms              int64\nType              object\nMethod            object\nSellerG           object\nDate              object\nDistance         float64\nPostcode         float64\nBedroom2         float64\nBathroom         float64\nCar              float64\nLandsize         float64\nBuildingArea     float64\nYearBuilt        float64\nCouncilArea       object\nLatitude         float64\nLongitude        float64\nRegionname        object\nPropertycount    float64\ndtype: object"
     },
     "execution_count": 86,
     "metadata": {},
     "output_type": "execute_result"
    }
   ],
   "source": [
    "x.dtypes"
   ]
  },
  {
   "cell_type": "code",
   "execution_count": 87,
   "metadata": {},
   "outputs": [
    {
     "data": {
      "text/plain": "['Type', 'Method', 'Regionname']"
     },
     "execution_count": 87,
     "metadata": {},
     "output_type": "execute_result"
    }
   ],
   "source": [
    "col_obj = x.select_dtypes(include='object')\n",
    "col_obj = col_obj.loc[:, col_obj.nunique() < 10]\n",
    "\n",
    "col_cat = list(col_obj.columns)\n",
    "col_cat"
   ]
  },
  {
   "cell_type": "code",
   "execution_count": 91,
   "metadata": {},
   "outputs": [
    {
     "data": {
      "text/plain": "(10864, 20)"
     },
     "execution_count": 91,
     "metadata": {},
     "output_type": "execute_result"
    },
    {
     "data": {
      "text/plain": "(2716, 20)"
     },
     "execution_count": 91,
     "metadata": {},
     "output_type": "execute_result"
    },
    {
     "data": {
      "text/plain": "(10864, 15)"
     },
     "execution_count": 91,
     "metadata": {},
     "output_type": "execute_result"
    },
    {
     "data": {
      "text/plain": "(2716, 15)"
     },
     "execution_count": 91,
     "metadata": {},
     "output_type": "execute_result"
    },
    {
     "name": "stdout",
     "output_type": "stream",
     "text": "MAE from Label Encoding Categorical Columns:\n"
    },
    {
     "data": {
      "text/plain": "156274.91509818358"
     },
     "execution_count": 91,
     "metadata": {},
     "output_type": "execute_result"
    }
   ],
   "source": [
    "# Label encoding\n",
    "\n",
    "from sklearn.preprocessing import LabelEncoder\n",
    "\n",
    "le = LabelEncoder()\n",
    "\n",
    "xle_train = x_train.copy()\n",
    "xle_test = x_test.copy()\n",
    "xle_train.shape\n",
    "xle_test.shape\n",
    "\n",
    "for col in col_cat:\n",
    "    xle_train[col] = le.fit_transform(x_train[col])\n",
    "    xle_test[col] = le.transform(x_test[col])\n",
    "\n",
    "xle_train[col_num+col_cat].shape\n",
    "xle_test[col_num+col_cat].shape\n",
    "\n",
    "print('MAE from Label Encoding Categorical Columns:')\n",
    "build_score_randomforest(xle_train[col_num+col_cat], y_train, xle_test[col_num+col_cat], y_test)"
   ]
  },
  {
   "cell_type": "markdown",
   "metadata": {},
   "source": [
    "## Build a Gradient Boosting Model"
   ]
  },
  {
   "cell_type": "code",
   "execution_count": null,
   "metadata": {},
   "outputs": [],
   "source": [
    "from sklearn.ensemble import GradientBoostingRegressor\n",
    "\n",
    "gbr = GradientBoostingRegressor(n_estimators=5000, learning_rate=.01, max_depth=5, random_state=1)\n",
    "gbr.fit(xle_train[col_num+col_cat], y_train)\n",
    "y_test_predict = gbr.predict(xle_test[col_num+col_cat])\n",
    "mae = mean_absolute_error(y_test, y_test_predict)\n",
    "\n",
    "print('MAE from Gradient Boosting Model:')\n",
    "print(mae)"
   ]
  },
  {
   "cell_type": "code",
   "execution_count": null,
   "metadata": {},
   "outputs": [],
   "source": [
    "# EXTREME\n",
    "\n",
    "from xgboost import XGBRegressor\n",
    "\n",
    "gbr = XGBRegressor(n_estimators=5000, learning_rate=.01, max_depth=5, random_state=1)\n",
    "gbr.fit(xle_train[col_num+col_cat], y_train)\n",
    "y_test_predict = gbr.predict(xle_test[col_num+col_cat])\n",
    "mae = mean_absolute_error(y_test, y_test_predict)\n",
    "\n",
    "print('MAE from Gradient Boosting Model:')\n",
    "print(mae)"
   ]
  }
 ]
}