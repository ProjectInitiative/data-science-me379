{
 "nbformat": 4,
 "nbformat_minor": 2,
 "metadata": {
  "language_info": {
   "name": "python",
   "codemirror_mode": {
    "name": "ipython",
    "version": 3
   },
   "version": "3.8.1-final"
  },
  "orig_nbformat": 2,
  "file_extension": ".py",
  "mimetype": "text/x-python",
  "name": "python",
  "npconvert_exporter": "python",
  "pygments_lexer": "ipython3",
  "version": 3,
  "kernelspec": {
   "name": "python38164bitdatascienceme379pipenv8dbb133a52444b59a24c44ecd8ac3f71",
   "display_name": "Python 3.8.1 64-bit ('data-science-me379': pipenv)"
  }
 },
 "cells": [
  {
   "cell_type": "code",
   "execution_count": 1,
   "metadata": {},
   "outputs": [],
   "source": [
    "import os\n",
    "import sys\n",
    "module_path = os.path.abspath(os.path.join('..'))\n",
    "if module_path not in sys.path:\n",
    "    sys.path.append(module_path)\n",
    "if not sys.warnoptions:\n",
    "    import warnings\n",
    "    warnings.simplefilter(\"ignore\")\n",
    "    \n",
    "%matplotlib inline\n",
    "\n",
    "from IPython.core.interactiveshell import InteractiveShell\n",
    "InteractiveShell.ast_node_interactivity = \"all\"\n",
    "\n",
    "import pandas as pd \n",
    "import numpy as np\n",
    "\n",
    "import matplotlib.pyplot as plt\n",
    "\n",
    "from sklearn.preprocessing import scale"
   ]
  },
  {
   "cell_type": "markdown",
   "metadata": {},
   "source": [
    "## Load Data"
   ]
  },
  {
   "cell_type": "code",
   "execution_count": 2,
   "metadata": {},
   "outputs": [],
   "source": [
    "df_retail = pd.read_csv('./retail_transactions.csv', encoding='ISO-8859-1')"
   ]
  },
  {
   "cell_type": "code",
   "execution_count": 3,
   "metadata": {},
   "outputs": [
    {
     "output_type": "execute_result",
     "data": {
      "text/plain": "0           WHITE_HANGING_HEART_TLIGHT_HOLDER\n1                         WHITE_METAL_LANTERN\n2              CREAM_CUPID_HEARTS_COAT_HANGER\n3         KNITTED_UNION_FLAG_HOT_WATER_BOTTLE\n4               RED_WOOLLY_HOTTIE_WHITE_HEART\n                         ...                 \n541904            PACK_OF_20_SPACEBOY_NAPKINS\n541905            CHILDRENS_APRON_DOLLY_GIRL_\n541906          CHILDRENS_CUTLERY_DOLLY_GIRL_\n541907        CHILDRENS_CUTLERY_CIRCUS_PARADE\n541908          BAKING_SET_9_PIECE_RETROSPOT_\nName: clean_description, Length: 541909, dtype: object"
     },
     "metadata": {},
     "execution_count": 3
    }
   ],
   "source": [
    "# Replace spaces and remove characters\n",
    "\n",
    "df_retail['clean_description'] = df_retail['Description']\n",
    "df_retail['clean_description'] = df_retail['clean_description'].str.replace(' ','_')\n",
    "df_retail['clean_description'].str.replace('\\W','')"
   ]
  },
  {
   "cell_type": "code",
   "execution_count": 4,
   "metadata": {},
   "outputs": [],
   "source": [
    "# Drop missing values\n",
    "df_retail.dropna(inplace=True)"
   ]
  },
  {
   "cell_type": "code",
   "execution_count": 5,
   "metadata": {},
   "outputs": [],
   "source": [
    "# Convert to list format\n",
    "\n",
    "retail_list = df_retail.groupby('InvoiceNo').clean_description.apply(list)"
   ]
  },
  {
   "cell_type": "markdown",
   "metadata": {},
   "source": [
    "## Build Model\n",
    "\n",
    "Association Rule Model"
   ]
  },
  {
   "cell_type": "code",
   "execution_count": 6,
   "metadata": {},
   "outputs": [
    {
     "output_type": "execute_result",
     "data": {
      "text/plain": "       10_COLOUR_SPACEBOY_PEN  12_COLOURED_PARTY_BALLOONS  \\\n0                       False                       False   \n1                       False                       False   \n2                       False                       False   \n3                       False                       False   \n4                       False                       False   \n...                       ...                         ...   \n22185                   False                       False   \n22186                   False                       False   \n22187                   False                       False   \n22188                   False                       False   \n22189                   False                       False   \n\n       12_DAISY_PEGS_IN_WOOD_BOX  12_EGG_HOUSE_PAINTED_WOOD  \\\n0                          False                      False   \n1                          False                      False   \n2                          False                      False   \n3                          False                      False   \n4                          False                      False   \n...                          ...                        ...   \n22185                      False                      False   \n22186                      False                      False   \n22187                      False                      False   \n22188                      False                      False   \n22189                      False                      False   \n\n       12_HANGING_EGGS_HAND_PAINTED  12_IVORY_ROSE_PEG_PLACE_SETTINGS  \\\n0                             False                             False   \n1                             False                             False   \n2                             False                             False   \n3                             False                             False   \n4                             False                             False   \n...                             ...                               ...   \n22185                         False                             False   \n22186                         False                             False   \n22187                         False                             False   \n22188                         False                             False   \n22189                         False                             False   \n\n       12_MESSAGE_CARDS_WITH_ENVELOPES  12_PENCILS_SMALL_TUBE_RED_RETROSPOT  \\\n0                                False                                False   \n1                                False                                False   \n2                                False                                False   \n3                                False                                False   \n4                                False                                False   \n...                                ...                                  ...   \n22185                            False                                False   \n22186                            False                                False   \n22187                            False                                False   \n22188                            False                                False   \n22189                            False                                False   \n\n       12_PENCILS_SMALL_TUBE_SKULL  12_PENCILS_TALL_TUBE_POSY  ...  \\\n0                            False                      False  ...   \n1                            False                      False  ...   \n2                            False                      False  ...   \n3                            False                      False  ...   \n4                            False                      False  ...   \n...                            ...                        ...  ...   \n22185                        False                      False  ...   \n22186                        False                      False  ...   \n22187                        False                      False  ...   \n22188                        False                      False  ...   \n22189                        False                      False  ...   \n\n       _DOLLY_GIRL_BEAKER  _I_LOVE_LONDON_MINI_BACKPACK  \\\n0                   False                         False   \n1                   False                         False   \n2                   False                         False   \n3                   False                         False   \n4                   False                         False   \n...                   ...                           ...   \n22185               False                         False   \n22186               False                         False   \n22187               False                         False   \n22188               False                         False   \n22189               False                         False   \n\n       _I_LOVE_LONDON_MINI_RUCKSACK  _NINE_DRAWER_OFFICE_TIDY  \\\n0                             False                     False   \n1                             False                     False   \n2                             False                     False   \n3                             False                     False   \n4                             False                     False   \n...                             ...                       ...   \n22185                         False                     False   \n22186                         False                     False   \n22187                         False                     False   \n22188                         False                     False   \n22189                         False                     False   \n\n       _OVAL_WALL_MIRROR_DIAMANTE_  _RED_SPOT_GIFT_BAG_LARGE  \\\n0                            False                     False   \n1                            False                     False   \n2                            False                     False   \n3                            False                     False   \n4                            False                     False   \n...                            ...                       ...   \n22185                        False                     False   \n22186                        False                     False   \n22187                        False                     False   \n22188                        False                     False   \n22189                        False                     False   \n\n       _SET_2_TEA_TOWELS_I_LOVE_LONDON_  _SPACEBOY_BABY_GIFT_SET  \\\n0                                 False                    False   \n1                                 False                    False   \n2                                 False                    False   \n3                                 False                    False   \n4                                 False                    False   \n...                                 ...                      ...   \n22185                             False                    False   \n22186                             False                    False   \n22187                             False                    False   \n22188                             False                    False   \n22189                             False                    False   \n\n       _TOADSTOOL_BEDSIDE_LIGHT_  _TRELLIS_COAT_RACK  \n0                          False               False  \n1                          False               False  \n2                          False               False  \n3                          False               False  \n4                          False               False  \n...                          ...                 ...  \n22185                      False               False  \n22186                      False               False  \n22187                      False               False  \n22188                      False               False  \n22189                      False               False  \n\n[22190 rows x 3896 columns]",
      "text/html": "<div>\n<style scoped>\n    .dataframe tbody tr th:only-of-type {\n        vertical-align: middle;\n    }\n\n    .dataframe tbody tr th {\n        vertical-align: top;\n    }\n\n    .dataframe thead th {\n        text-align: right;\n    }\n</style>\n<table border=\"1\" class=\"dataframe\">\n  <thead>\n    <tr style=\"text-align: right;\">\n      <th></th>\n      <th>10_COLOUR_SPACEBOY_PEN</th>\n      <th>12_COLOURED_PARTY_BALLOONS</th>\n      <th>12_DAISY_PEGS_IN_WOOD_BOX</th>\n      <th>12_EGG_HOUSE_PAINTED_WOOD</th>\n      <th>12_HANGING_EGGS_HAND_PAINTED</th>\n      <th>12_IVORY_ROSE_PEG_PLACE_SETTINGS</th>\n      <th>12_MESSAGE_CARDS_WITH_ENVELOPES</th>\n      <th>12_PENCILS_SMALL_TUBE_RED_RETROSPOT</th>\n      <th>12_PENCILS_SMALL_TUBE_SKULL</th>\n      <th>12_PENCILS_TALL_TUBE_POSY</th>\n      <th>...</th>\n      <th>_DOLLY_GIRL_BEAKER</th>\n      <th>_I_LOVE_LONDON_MINI_BACKPACK</th>\n      <th>_I_LOVE_LONDON_MINI_RUCKSACK</th>\n      <th>_NINE_DRAWER_OFFICE_TIDY</th>\n      <th>_OVAL_WALL_MIRROR_DIAMANTE_</th>\n      <th>_RED_SPOT_GIFT_BAG_LARGE</th>\n      <th>_SET_2_TEA_TOWELS_I_LOVE_LONDON_</th>\n      <th>_SPACEBOY_BABY_GIFT_SET</th>\n      <th>_TOADSTOOL_BEDSIDE_LIGHT_</th>\n      <th>_TRELLIS_COAT_RACK</th>\n    </tr>\n  </thead>\n  <tbody>\n    <tr>\n      <th>0</th>\n      <td>False</td>\n      <td>False</td>\n      <td>False</td>\n      <td>False</td>\n      <td>False</td>\n      <td>False</td>\n      <td>False</td>\n      <td>False</td>\n      <td>False</td>\n      <td>False</td>\n      <td>...</td>\n      <td>False</td>\n      <td>False</td>\n      <td>False</td>\n      <td>False</td>\n      <td>False</td>\n      <td>False</td>\n      <td>False</td>\n      <td>False</td>\n      <td>False</td>\n      <td>False</td>\n    </tr>\n    <tr>\n      <th>1</th>\n      <td>False</td>\n      <td>False</td>\n      <td>False</td>\n      <td>False</td>\n      <td>False</td>\n      <td>False</td>\n      <td>False</td>\n      <td>False</td>\n      <td>False</td>\n      <td>False</td>\n      <td>...</td>\n      <td>False</td>\n      <td>False</td>\n      <td>False</td>\n      <td>False</td>\n      <td>False</td>\n      <td>False</td>\n      <td>False</td>\n      <td>False</td>\n      <td>False</td>\n      <td>False</td>\n    </tr>\n    <tr>\n      <th>2</th>\n      <td>False</td>\n      <td>False</td>\n      <td>False</td>\n      <td>False</td>\n      <td>False</td>\n      <td>False</td>\n      <td>False</td>\n      <td>False</td>\n      <td>False</td>\n      <td>False</td>\n      <td>...</td>\n      <td>False</td>\n      <td>False</td>\n      <td>False</td>\n      <td>False</td>\n      <td>False</td>\n      <td>False</td>\n      <td>False</td>\n      <td>False</td>\n      <td>False</td>\n      <td>False</td>\n    </tr>\n    <tr>\n      <th>3</th>\n      <td>False</td>\n      <td>False</td>\n      <td>False</td>\n      <td>False</td>\n      <td>False</td>\n      <td>False</td>\n      <td>False</td>\n      <td>False</td>\n      <td>False</td>\n      <td>False</td>\n      <td>...</td>\n      <td>False</td>\n      <td>False</td>\n      <td>False</td>\n      <td>False</td>\n      <td>False</td>\n      <td>False</td>\n      <td>False</td>\n      <td>False</td>\n      <td>False</td>\n      <td>False</td>\n    </tr>\n    <tr>\n      <th>4</th>\n      <td>False</td>\n      <td>False</td>\n      <td>False</td>\n      <td>False</td>\n      <td>False</td>\n      <td>False</td>\n      <td>False</td>\n      <td>False</td>\n      <td>False</td>\n      <td>False</td>\n      <td>...</td>\n      <td>False</td>\n      <td>False</td>\n      <td>False</td>\n      <td>False</td>\n      <td>False</td>\n      <td>False</td>\n      <td>False</td>\n      <td>False</td>\n      <td>False</td>\n      <td>False</td>\n    </tr>\n    <tr>\n      <th>...</th>\n      <td>...</td>\n      <td>...</td>\n      <td>...</td>\n      <td>...</td>\n      <td>...</td>\n      <td>...</td>\n      <td>...</td>\n      <td>...</td>\n      <td>...</td>\n      <td>...</td>\n      <td>...</td>\n      <td>...</td>\n      <td>...</td>\n      <td>...</td>\n      <td>...</td>\n      <td>...</td>\n      <td>...</td>\n      <td>...</td>\n      <td>...</td>\n      <td>...</td>\n      <td>...</td>\n    </tr>\n    <tr>\n      <th>22185</th>\n      <td>False</td>\n      <td>False</td>\n      <td>False</td>\n      <td>False</td>\n      <td>False</td>\n      <td>False</td>\n      <td>False</td>\n      <td>False</td>\n      <td>False</td>\n      <td>False</td>\n      <td>...</td>\n      <td>False</td>\n      <td>False</td>\n      <td>False</td>\n      <td>False</td>\n      <td>False</td>\n      <td>False</td>\n      <td>False</td>\n      <td>False</td>\n      <td>False</td>\n      <td>False</td>\n    </tr>\n    <tr>\n      <th>22186</th>\n      <td>False</td>\n      <td>False</td>\n      <td>False</td>\n      <td>False</td>\n      <td>False</td>\n      <td>False</td>\n      <td>False</td>\n      <td>False</td>\n      <td>False</td>\n      <td>False</td>\n      <td>...</td>\n      <td>False</td>\n      <td>False</td>\n      <td>False</td>\n      <td>False</td>\n      <td>False</td>\n      <td>False</td>\n      <td>False</td>\n      <td>False</td>\n      <td>False</td>\n      <td>False</td>\n    </tr>\n    <tr>\n      <th>22187</th>\n      <td>False</td>\n      <td>False</td>\n      <td>False</td>\n      <td>False</td>\n      <td>False</td>\n      <td>False</td>\n      <td>False</td>\n      <td>False</td>\n      <td>False</td>\n      <td>False</td>\n      <td>...</td>\n      <td>False</td>\n      <td>False</td>\n      <td>False</td>\n      <td>False</td>\n      <td>False</td>\n      <td>False</td>\n      <td>False</td>\n      <td>False</td>\n      <td>False</td>\n      <td>False</td>\n    </tr>\n    <tr>\n      <th>22188</th>\n      <td>False</td>\n      <td>False</td>\n      <td>False</td>\n      <td>False</td>\n      <td>False</td>\n      <td>False</td>\n      <td>False</td>\n      <td>False</td>\n      <td>False</td>\n      <td>False</td>\n      <td>...</td>\n      <td>False</td>\n      <td>False</td>\n      <td>False</td>\n      <td>False</td>\n      <td>False</td>\n      <td>False</td>\n      <td>False</td>\n      <td>False</td>\n      <td>False</td>\n      <td>False</td>\n    </tr>\n    <tr>\n      <th>22189</th>\n      <td>False</td>\n      <td>False</td>\n      <td>False</td>\n      <td>False</td>\n      <td>False</td>\n      <td>False</td>\n      <td>False</td>\n      <td>False</td>\n      <td>False</td>\n      <td>False</td>\n      <td>...</td>\n      <td>False</td>\n      <td>False</td>\n      <td>False</td>\n      <td>False</td>\n      <td>False</td>\n      <td>False</td>\n      <td>False</td>\n      <td>False</td>\n      <td>False</td>\n      <td>False</td>\n    </tr>\n  </tbody>\n</table>\n<p>22190 rows × 3896 columns</p>\n</div>"
     },
     "metadata": {},
     "execution_count": 6
    }
   ],
   "source": [
    "# Encode data as transaction matrix\n",
    "\n",
    "from mlxtend.preprocessing import TransactionEncoder\n",
    "\n",
    "te_model = TransactionEncoder()\n",
    "te_model_arr = te_model.fit(retail_list).transform(retail_list)\n",
    "df_retail = pd.DataFrame(te_model_arr, columns=te_model.columns_)\n",
    "df_retail"
   ]
  },
  {
   "cell_type": "code",
   "execution_count": 7,
   "metadata": {},
   "outputs": [
    {
     "output_type": "execute_result",
     "data": {
      "text/plain": "      support                                           itemsets\n0    0.011221                           (10_COLOUR_SPACEBOY_PEN)\n1    0.014015              (12_PENCILS_SMALL_TUBE_RED_RETROSPOT)\n2    0.013249                      (12_PENCILS_SMALL_TUBE_SKULL)\n3    0.010680               (12_PENCILS_TALL_TUBE_RED_RETROSPOT)\n4    0.012528                    (12_PENCIL_SMALL_TUBE_WOODLAND)\n..        ...                                                ...\n734  0.010140  (LUNCH_BAG_SUKI_DESIGN_, LUNCH_BAG_RED_RETROSP...\n735  0.011447  (LUNCH_BAG_SUKI_DESIGN_, LUNCH_BAG_RED_RETROSP...\n736  0.010455  (LUNCH_BAG__BLACK_SKULL., LUNCH_BAG_RED_RETROS...\n737  0.012213  (PINK_REGENCY_TEACUP_AND_SAUCER, REGENCY_CAKES...\n738  0.010861  (GREEN_REGENCY_TEACUP_AND_SAUCER, PINK_REGENCY...\n\n[739 rows x 2 columns]",
      "text/html": "<div>\n<style scoped>\n    .dataframe tbody tr th:only-of-type {\n        vertical-align: middle;\n    }\n\n    .dataframe tbody tr th {\n        vertical-align: top;\n    }\n\n    .dataframe thead th {\n        text-align: right;\n    }\n</style>\n<table border=\"1\" class=\"dataframe\">\n  <thead>\n    <tr style=\"text-align: right;\">\n      <th></th>\n      <th>support</th>\n      <th>itemsets</th>\n    </tr>\n  </thead>\n  <tbody>\n    <tr>\n      <th>0</th>\n      <td>0.011221</td>\n      <td>(10_COLOUR_SPACEBOY_PEN)</td>\n    </tr>\n    <tr>\n      <th>1</th>\n      <td>0.014015</td>\n      <td>(12_PENCILS_SMALL_TUBE_RED_RETROSPOT)</td>\n    </tr>\n    <tr>\n      <th>2</th>\n      <td>0.013249</td>\n      <td>(12_PENCILS_SMALL_TUBE_SKULL)</td>\n    </tr>\n    <tr>\n      <th>3</th>\n      <td>0.010680</td>\n      <td>(12_PENCILS_TALL_TUBE_RED_RETROSPOT)</td>\n    </tr>\n    <tr>\n      <th>4</th>\n      <td>0.012528</td>\n      <td>(12_PENCIL_SMALL_TUBE_WOODLAND)</td>\n    </tr>\n    <tr>\n      <th>...</th>\n      <td>...</td>\n      <td>...</td>\n    </tr>\n    <tr>\n      <th>734</th>\n      <td>0.010140</td>\n      <td>(LUNCH_BAG_SUKI_DESIGN_, LUNCH_BAG_RED_RETROSP...</td>\n    </tr>\n    <tr>\n      <th>735</th>\n      <td>0.011447</td>\n      <td>(LUNCH_BAG_SUKI_DESIGN_, LUNCH_BAG_RED_RETROSP...</td>\n    </tr>\n    <tr>\n      <th>736</th>\n      <td>0.010455</td>\n      <td>(LUNCH_BAG__BLACK_SKULL., LUNCH_BAG_RED_RETROS...</td>\n    </tr>\n    <tr>\n      <th>737</th>\n      <td>0.012213</td>\n      <td>(PINK_REGENCY_TEACUP_AND_SAUCER, REGENCY_CAKES...</td>\n    </tr>\n    <tr>\n      <th>738</th>\n      <td>0.010861</td>\n      <td>(GREEN_REGENCY_TEACUP_AND_SAUCER, PINK_REGENCY...</td>\n    </tr>\n  </tbody>\n</table>\n<p>739 rows × 2 columns</p>\n</div>"
     },
     "metadata": {},
     "execution_count": 7
    }
   ],
   "source": [
    "# Determine the items and itemsets with at least 1% support\n",
    "\n",
    "from mlxtend.frequent_patterns import apriori\n",
    "\n",
    "frequent_itemsets = apriori(df_retail, min_support=0.01, use_colnames=True)\n",
    "frequent_itemsets"
   ]
  },
  {
   "cell_type": "code",
   "execution_count": 8,
   "metadata": {},
   "outputs": [
    {
     "output_type": "execute_result",
     "data": {
      "text/plain": "                                          antecedents  \\\n35  (PINK_REGENCY_TEACUP_AND_SAUCER, REGENCY_CAKES...   \n24  (PINK_REGENCY_TEACUP_AND_SAUCER, ROSES_REGENCY...   \n33  (GREEN_REGENCY_TEACUP_AND_SAUCER, PINK_REGENCY...   \n21  (PINK_REGENCY_TEACUP_AND_SAUCER, REGENCY_CAKES...   \n32  (PINK_REGENCY_TEACUP_AND_SAUCER, REGENCY_CAKES...   \n\n                           consequents  antecedent support  \\\n35   (GREEN_REGENCY_TEACUP_AND_SAUCER)            0.012213   \n24   (GREEN_REGENCY_TEACUP_AND_SAUCER)            0.020324   \n33  (ROSES_REGENCY_TEACUP_AND_SAUCER_)            0.012348   \n21   (GREEN_REGENCY_TEACUP_AND_SAUCER)            0.014376   \n32  (ROSES_REGENCY_TEACUP_AND_SAUCER_)            0.014376   \n\n    consequent support   support  confidence       lift  leverage  conviction  \n35            0.033033  0.010861    0.889299  26.921613  0.010457    8.734936  \n24            0.033033  0.017891    0.880266  26.648164  0.017220    8.075966  \n33            0.037675  0.010861    0.879562  23.346270  0.010396    7.990217  \n21            0.033033  0.012348    0.858934  26.002386  0.011873    6.854722  \n32            0.037675  0.012213    0.849530  22.549122  0.011671    6.395454  ",
      "text/html": "<div>\n<style scoped>\n    .dataframe tbody tr th:only-of-type {\n        vertical-align: middle;\n    }\n\n    .dataframe tbody tr th {\n        vertical-align: top;\n    }\n\n    .dataframe thead th {\n        text-align: right;\n    }\n</style>\n<table border=\"1\" class=\"dataframe\">\n  <thead>\n    <tr style=\"text-align: right;\">\n      <th></th>\n      <th>antecedents</th>\n      <th>consequents</th>\n      <th>antecedent support</th>\n      <th>consequent support</th>\n      <th>support</th>\n      <th>confidence</th>\n      <th>lift</th>\n      <th>leverage</th>\n      <th>conviction</th>\n    </tr>\n  </thead>\n  <tbody>\n    <tr>\n      <th>35</th>\n      <td>(PINK_REGENCY_TEACUP_AND_SAUCER, REGENCY_CAKES...</td>\n      <td>(GREEN_REGENCY_TEACUP_AND_SAUCER)</td>\n      <td>0.012213</td>\n      <td>0.033033</td>\n      <td>0.010861</td>\n      <td>0.889299</td>\n      <td>26.921613</td>\n      <td>0.010457</td>\n      <td>8.734936</td>\n    </tr>\n    <tr>\n      <th>24</th>\n      <td>(PINK_REGENCY_TEACUP_AND_SAUCER, ROSES_REGENCY...</td>\n      <td>(GREEN_REGENCY_TEACUP_AND_SAUCER)</td>\n      <td>0.020324</td>\n      <td>0.033033</td>\n      <td>0.017891</td>\n      <td>0.880266</td>\n      <td>26.648164</td>\n      <td>0.017220</td>\n      <td>8.075966</td>\n    </tr>\n    <tr>\n      <th>33</th>\n      <td>(GREEN_REGENCY_TEACUP_AND_SAUCER, PINK_REGENCY...</td>\n      <td>(ROSES_REGENCY_TEACUP_AND_SAUCER_)</td>\n      <td>0.012348</td>\n      <td>0.037675</td>\n      <td>0.010861</td>\n      <td>0.879562</td>\n      <td>23.346270</td>\n      <td>0.010396</td>\n      <td>7.990217</td>\n    </tr>\n    <tr>\n      <th>21</th>\n      <td>(PINK_REGENCY_TEACUP_AND_SAUCER, REGENCY_CAKES...</td>\n      <td>(GREEN_REGENCY_TEACUP_AND_SAUCER)</td>\n      <td>0.014376</td>\n      <td>0.033033</td>\n      <td>0.012348</td>\n      <td>0.858934</td>\n      <td>26.002386</td>\n      <td>0.011873</td>\n      <td>6.854722</td>\n    </tr>\n    <tr>\n      <th>32</th>\n      <td>(PINK_REGENCY_TEACUP_AND_SAUCER, REGENCY_CAKES...</td>\n      <td>(ROSES_REGENCY_TEACUP_AND_SAUCER_)</td>\n      <td>0.014376</td>\n      <td>0.037675</td>\n      <td>0.012213</td>\n      <td>0.849530</td>\n      <td>22.549122</td>\n      <td>0.011671</td>\n      <td>6.395454</td>\n    </tr>\n  </tbody>\n</table>\n</div>"
     },
     "metadata": {},
     "execution_count": 8
    }
   ],
   "source": [
    "# Evaluate metrics and filter items/itemsets that have at least 70% confidence\n",
    "\n",
    "from mlxtend.frequent_patterns import association_rules\n",
    "\n",
    "a_rules = association_rules(frequent_itemsets, metric='confidence', min_threshold=0.7)\n",
    "a_rules.sort_values(by=['confidence'],ascending=False, inplace=True)\n",
    "a_rules.head()"
   ]
  },
  {
   "cell_type": "code",
   "execution_count": null,
   "metadata": {},
   "outputs": [],
   "source": []
  }
 ]
}