{
 "nbformat": 4,
 "nbformat_minor": 2,
 "metadata": {
  "language_info": {
   "name": "python",
   "codemirror_mode": {
    "name": "ipython",
    "version": 3
   },
   "version": "3.8.1-final"
  },
  "orig_nbformat": 2,
  "file_extension": ".py",
  "mimetype": "text/x-python",
  "name": "python",
  "npconvert_exporter": "python",
  "pygments_lexer": "ipython3",
  "version": 3,
  "kernelspec": {
   "name": "python38164bitdatascienceme379pipenv8dbb133a52444b59a24c44ecd8ac3f71",
   "display_name": "Python 3.8.1 64-bit ('data-science-me379': pipenv)"
  }
 },
 "cells": [
  {
   "cell_type": "code",
   "execution_count": 1,
   "metadata": {},
   "outputs": [],
   "source": [
    "import os\n",
    "import sys\n",
    "module_path = os.path.abspath(os.path.join('..'))\n",
    "if module_path not in sys.path:\n",
    "    sys.path.append(module_path)\n",
    "if not sys.warnoptions:\n",
    "    import warnings\n",
    "    warnings.simplefilter(\"ignore\")\n",
    "    \n",
    "%matplotlib inline\n",
    "\n",
    "from IPython.core.interactiveshell import InteractiveShell\n",
    "InteractiveShell.ast_node_interactivity = \"all\"\n",
    "\n",
    "import pandas as pd \n",
    "import numpy as np\n",
    "\n",
    "import matplotlib.pyplot as plt\n",
    "\n",
    "from sklearn.preprocessing import scale"
   ]
  },
  {
   "cell_type": "markdown",
   "metadata": {},
   "source": [
    "## Load Data"
   ]
  },
  {
   "cell_type": "code",
   "execution_count": 2,
   "metadata": {},
   "outputs": [],
   "source": [
    "df_retail = pd.read_csv('./retail_transactions.csv', encoding='ISO-8859-1')"
   ]
  },
  {
   "cell_type": "code",
   "execution_count": 3,
   "metadata": {},
   "outputs": [
    {
     "output_type": "execute_result",
     "data": {
      "text/plain": "0           WHITE_HANGING_HEART_TLIGHT_HOLDER\n1                         WHITE_METAL_LANTERN\n2              CREAM_CUPID_HEARTS_COAT_HANGER\n3         KNITTED_UNION_FLAG_HOT_WATER_BOTTLE\n4               RED_WOOLLY_HOTTIE_WHITE_HEART\n                         ...                 \n541904            PACK_OF_20_SPACEBOY_NAPKINS\n541905            CHILDRENS_APRON_DOLLY_GIRL_\n541906          CHILDRENS_CUTLERY_DOLLY_GIRL_\n541907        CHILDRENS_CUTLERY_CIRCUS_PARADE\n541908          BAKING_SET_9_PIECE_RETROSPOT_\nName: clean_description, Length: 541909, dtype: object"
     },
     "metadata": {},
     "execution_count": 3
    }
   ],
   "source": [
    "# Replace spaces and remove characters\n",
    "\n",
    "df_retail['clean_description'] = df_retail['Description']\n",
    "df_retail['clean_description'] = df_retail['clean_description'].str.replace(' ','_')\n",
    "df_retail['clean_description'].str.replace('\\W','')"
   ]
  },
  {
   "cell_type": "code",
   "execution_count": 4,
   "metadata": {},
   "outputs": [],
   "source": [
    "# Drop missing values\n",
    "df_retail.dropna(inplace=True)"
   ]
  },
  {
   "cell_type": "code",
   "execution_count": 5,
   "metadata": {},
   "outputs": [],
   "source": [
    "# Convert to list format\n",
    "\n",
    "retail_list = df_retail.groupby('InvoiceNo').clean_description.apply(list)"
   ]
  },
  {
   "cell_type": "markdown",
   "metadata": {},
   "source": [
    "## Build Model\n",
    "\n",
    "Association Rule Model"
   ]
  },
  {
   "cell_type": "code",
   "execution_count": 6,
   "metadata": {},
   "outputs": [],
   "source": [
    "# Encode data as transaction matrix\n",
    "\n",
    "from mlxtend.preprocessing import TransactionEncoder\n",
    "\n",
    "te_model = TransactionEncoder()\n",
    "te_model_arr = te_model.fit(retail_list).transform(retail_list)\n",
    "df_retail = pd.DataFrame(te_model_arr, columns=te_model.columns_)"
   ]
  },
  {
   "cell_type": "code",
   "execution_count": 7,
   "metadata": {},
   "outputs": [
    {
     "output_type": "execute_result",
     "data": {
      "text/plain": "      support                                           itemsets\n0    0.011221                           (10_COLOUR_SPACEBOY_PEN)\n1    0.014015              (12_PENCILS_SMALL_TUBE_RED_RETROSPOT)\n2    0.013249                      (12_PENCILS_SMALL_TUBE_SKULL)\n3    0.010680               (12_PENCILS_TALL_TUBE_RED_RETROSPOT)\n4    0.012528                    (12_PENCIL_SMALL_TUBE_WOODLAND)\n..        ...                                                ...\n734  0.010140  (LUNCH_BAG_RED_RETROSPOT, LUNCH_BAG_WOODLAND, ...\n735  0.011447  (LUNCH_BAG_RED_RETROSPOT, LUNCH_BAG_SUKI_DESIG...\n736  0.010455  (LUNCH_BAG_RED_RETROSPOT, LUNCH_BAG_WOODLAND, ...\n737  0.012213  (ROSES_REGENCY_TEACUP_AND_SAUCER_, PINK_REGENC...\n738  0.010861  (ROSES_REGENCY_TEACUP_AND_SAUCER_, GREEN_REGEN...\n\n[739 rows x 2 columns]",
      "text/html": "<div>\n<style scoped>\n    .dataframe tbody tr th:only-of-type {\n        vertical-align: middle;\n    }\n\n    .dataframe tbody tr th {\n        vertical-align: top;\n    }\n\n    .dataframe thead th {\n        text-align: right;\n    }\n</style>\n<table border=\"1\" class=\"dataframe\">\n  <thead>\n    <tr style=\"text-align: right;\">\n      <th></th>\n      <th>support</th>\n      <th>itemsets</th>\n    </tr>\n  </thead>\n  <tbody>\n    <tr>\n      <th>0</th>\n      <td>0.011221</td>\n      <td>(10_COLOUR_SPACEBOY_PEN)</td>\n    </tr>\n    <tr>\n      <th>1</th>\n      <td>0.014015</td>\n      <td>(12_PENCILS_SMALL_TUBE_RED_RETROSPOT)</td>\n    </tr>\n    <tr>\n      <th>2</th>\n      <td>0.013249</td>\n      <td>(12_PENCILS_SMALL_TUBE_SKULL)</td>\n    </tr>\n    <tr>\n      <th>3</th>\n      <td>0.010680</td>\n      <td>(12_PENCILS_TALL_TUBE_RED_RETROSPOT)</td>\n    </tr>\n    <tr>\n      <th>4</th>\n      <td>0.012528</td>\n      <td>(12_PENCIL_SMALL_TUBE_WOODLAND)</td>\n    </tr>\n    <tr>\n      <th>...</th>\n      <td>...</td>\n      <td>...</td>\n    </tr>\n    <tr>\n      <th>734</th>\n      <td>0.010140</td>\n      <td>(LUNCH_BAG_RED_RETROSPOT, LUNCH_BAG_WOODLAND, ...</td>\n    </tr>\n    <tr>\n      <th>735</th>\n      <td>0.011447</td>\n      <td>(LUNCH_BAG_RED_RETROSPOT, LUNCH_BAG_SUKI_DESIG...</td>\n    </tr>\n    <tr>\n      <th>736</th>\n      <td>0.010455</td>\n      <td>(LUNCH_BAG_RED_RETROSPOT, LUNCH_BAG_WOODLAND, ...</td>\n    </tr>\n    <tr>\n      <th>737</th>\n      <td>0.012213</td>\n      <td>(ROSES_REGENCY_TEACUP_AND_SAUCER_, PINK_REGENC...</td>\n    </tr>\n    <tr>\n      <th>738</th>\n      <td>0.010861</td>\n      <td>(ROSES_REGENCY_TEACUP_AND_SAUCER_, GREEN_REGEN...</td>\n    </tr>\n  </tbody>\n</table>\n<p>739 rows × 2 columns</p>\n</div>"
     },
     "metadata": {},
     "execution_count": 7
    }
   ],
   "source": [
    "# Determine the items and itemsets with at least 1% support\n",
    "\n",
    "from mlxtend.frequent_patterns import apriori\n",
    "\n",
    "frequent_itemsets = apriori(df_retail, min_support=0.01, use_colnames=True)\n",
    "frequent_itemsets"
   ]
  },
  {
   "cell_type": "code",
   "execution_count": 8,
   "metadata": {},
   "outputs": [
    {
     "output_type": "execute_result",
     "data": {
      "text/plain": "                                          antecedents  \\\n34  (ROSES_REGENCY_TEACUP_AND_SAUCER_, REGENCY_CAK...   \n23  (ROSES_REGENCY_TEACUP_AND_SAUCER_, PINK_REGENC...   \n35  (GREEN_REGENCY_TEACUP_AND_SAUCER, REGENCY_CAKE...   \n21  (REGENCY_CAKESTAND_3_TIER, PINK_REGENCY_TEACUP...   \n32  (PINK_REGENCY_TEACUP_AND_SAUCER, REGENCY_CAKES...   \n\n                           consequents  antecedent support  \\\n34   (GREEN_REGENCY_TEACUP_AND_SAUCER)            0.012213   \n23   (GREEN_REGENCY_TEACUP_AND_SAUCER)            0.020324   \n35  (ROSES_REGENCY_TEACUP_AND_SAUCER_)            0.012348   \n21   (GREEN_REGENCY_TEACUP_AND_SAUCER)            0.014376   \n32  (ROSES_REGENCY_TEACUP_AND_SAUCER_)            0.014376   \n\n    consequent support   support  confidence       lift  leverage  conviction  \n34            0.033033  0.010861    0.889299  26.921613  0.010457    8.734936  \n23            0.033033  0.017891    0.880266  26.648164  0.017220    8.075966  \n35            0.037675  0.010861    0.879562  23.346270  0.010396    7.990217  \n21            0.033033  0.012348    0.858934  26.002386  0.011873    6.854722  \n32            0.037675  0.012213    0.849530  22.549122  0.011671    6.395454  ",
      "text/html": "<div>\n<style scoped>\n    .dataframe tbody tr th:only-of-type {\n        vertical-align: middle;\n    }\n\n    .dataframe tbody tr th {\n        vertical-align: top;\n    }\n\n    .dataframe thead th {\n        text-align: right;\n    }\n</style>\n<table border=\"1\" class=\"dataframe\">\n  <thead>\n    <tr style=\"text-align: right;\">\n      <th></th>\n      <th>antecedents</th>\n      <th>consequents</th>\n      <th>antecedent support</th>\n      <th>consequent support</th>\n      <th>support</th>\n      <th>confidence</th>\n      <th>lift</th>\n      <th>leverage</th>\n      <th>conviction</th>\n    </tr>\n  </thead>\n  <tbody>\n    <tr>\n      <th>34</th>\n      <td>(ROSES_REGENCY_TEACUP_AND_SAUCER_, REGENCY_CAK...</td>\n      <td>(GREEN_REGENCY_TEACUP_AND_SAUCER)</td>\n      <td>0.012213</td>\n      <td>0.033033</td>\n      <td>0.010861</td>\n      <td>0.889299</td>\n      <td>26.921613</td>\n      <td>0.010457</td>\n      <td>8.734936</td>\n    </tr>\n    <tr>\n      <th>23</th>\n      <td>(ROSES_REGENCY_TEACUP_AND_SAUCER_, PINK_REGENC...</td>\n      <td>(GREEN_REGENCY_TEACUP_AND_SAUCER)</td>\n      <td>0.020324</td>\n      <td>0.033033</td>\n      <td>0.017891</td>\n      <td>0.880266</td>\n      <td>26.648164</td>\n      <td>0.017220</td>\n      <td>8.075966</td>\n    </tr>\n    <tr>\n      <th>35</th>\n      <td>(GREEN_REGENCY_TEACUP_AND_SAUCER, REGENCY_CAKE...</td>\n      <td>(ROSES_REGENCY_TEACUP_AND_SAUCER_)</td>\n      <td>0.012348</td>\n      <td>0.037675</td>\n      <td>0.010861</td>\n      <td>0.879562</td>\n      <td>23.346270</td>\n      <td>0.010396</td>\n      <td>7.990217</td>\n    </tr>\n    <tr>\n      <th>21</th>\n      <td>(REGENCY_CAKESTAND_3_TIER, PINK_REGENCY_TEACUP...</td>\n      <td>(GREEN_REGENCY_TEACUP_AND_SAUCER)</td>\n      <td>0.014376</td>\n      <td>0.033033</td>\n      <td>0.012348</td>\n      <td>0.858934</td>\n      <td>26.002386</td>\n      <td>0.011873</td>\n      <td>6.854722</td>\n    </tr>\n    <tr>\n      <th>32</th>\n      <td>(PINK_REGENCY_TEACUP_AND_SAUCER, REGENCY_CAKES...</td>\n      <td>(ROSES_REGENCY_TEACUP_AND_SAUCER_)</td>\n      <td>0.014376</td>\n      <td>0.037675</td>\n      <td>0.012213</td>\n      <td>0.849530</td>\n      <td>22.549122</td>\n      <td>0.011671</td>\n      <td>6.395454</td>\n    </tr>\n  </tbody>\n</table>\n</div>"
     },
     "metadata": {},
     "execution_count": 8
    }
   ],
   "source": [
    "# Evaluate metrics and filter items/itemsets that have at least 70% confidence\n",
    "\n",
    "from mlxtend.frequent_patterns import association_rules\n",
    "\n",
    "a_rules = association_rules(frequent_itemsets, metric='confidence', min_threshold=0.7)\n",
    "a_rules.sort_values(by=['confidence'],ascending=False, inplace=True)\n",
    "a_rules.head()"
   ]
  },
  {
   "cell_type": "code",
   "execution_count": null,
   "metadata": {},
   "outputs": [],
   "source": []
  }
 ]
}