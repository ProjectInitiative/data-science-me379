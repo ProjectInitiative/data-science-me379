{
 "nbformat": 4,
 "nbformat_minor": 2,
 "metadata": {
  "language_info": {
   "name": "python",
   "codemirror_mode": {
    "name": "ipython",
    "version": 3
   },
   "version": "3.8.1-final"
  },
  "orig_nbformat": 2,
  "file_extension": ".py",
  "mimetype": "text/x-python",
  "name": "python",
  "npconvert_exporter": "python",
  "pygments_lexer": "ipython3",
  "version": 3,
  "kernelspec": {
   "name": "python38164bitdatascienceme379pipenv8dbb133a52444b59a24c44ecd8ac3f71",
   "display_name": "Python 3.8.1 64-bit ('data-science-me379': pipenv)"
  }
 },
 "cells": [
  {
   "cell_type": "code",
   "execution_count": 1,
   "metadata": {},
   "outputs": [],
   "source": [
    "import os\n",
    "import sys\n",
    "module_path = os.path.abspath(os.path.join('..'))\n",
    "if module_path not in sys.path:\n",
    "    sys.path.append(module_path)\n",
    "if not sys.warnoptions:\n",
    "    import warnings\n",
    "    warnings.simplefilter(\"ignore\")\n",
    "    \n",
    "%matplotlib inline\n",
    "\n",
    "from IPython.core.interactiveshell import InteractiveShell\n",
    "InteractiveShell.ast_node_interactivity = \"all\"\n",
    "\n",
    "import pandas as pd \n",
    "import numpy as np\n",
    "\n",
    "import matplotlib.pyplot as plt\n",
    "\n",
    "from sklearn.preprocessing import scale"
   ]
  },
  {
   "cell_type": "markdown",
   "metadata": {},
   "source": [
    "## Load Data"
   ]
  },
  {
   "cell_type": "code",
   "execution_count": 2,
   "metadata": {},
   "outputs": [],
   "source": [
    "df_movies = pd.read_csv('./movies_metadata_clean.csv', encoding='ISO-8859-1')\n",
    "df_users = pd.read_csv('./movies_ratings_small.csv', encoding='ISO-8859-1')"
   ]
  },
  {
   "cell_type": "markdown",
   "metadata": {},
   "source": [
    "## Build recommendations\n",
    "\n",
    "1. content based filtering"
   ]
  },
  {
   "cell_type": "code",
   "execution_count": 3,
   "metadata": {},
   "outputs": [
    {
     "output_type": "execute_result",
     "data": {
      "text/plain": "(45463, 24)"
     },
     "metadata": {},
     "execution_count": 3
    },
    {
     "output_type": "execute_result",
     "data": {
      "text/plain": "(42277, 24)"
     },
     "metadata": {},
     "execution_count": 3
    }
   ],
   "source": [
    "df_movies.shape\n",
    "\n",
    "# Remove duplicates\n",
    "df_movies.drop_duplicates(subset='title',keep='first',inplace=True)\n",
    "df_movies.shape"
   ]
  },
  {
   "cell_type": "code",
   "execution_count": 4,
   "metadata": {},
   "outputs": [
    {
     "output_type": "execute_result",
     "data": {
      "text/plain": "0        Led by Woody, Andy's toys live happily in his ...\n1        When siblings Judy and Peter discover an encha...\n2        A family wedding reignites the ancient feud be...\n3        Cheated on, mistreated and stepped on, the wom...\n4        Just when George Banks has recovered from his ...\n                               ...                        \n45456    It's the year 3000 AD. The world's most danger...\n45458    Rising and falling between a man and woman.Ris...\n45459    An artist struggles to finish his work while a...\n45461    In a small town live two brothers, one a minis...\n45462    50 years after decriminalisation of homosexual...\nName: description, Length: 42277, dtype: object"
     },
     "metadata": {},
     "execution_count": 4
    }
   ],
   "source": [
    "# Prepare description column\n",
    "\n",
    "df_movies['tagline'] = df_movies['tagline'].fillna('')\n",
    "df_movies['description'] = df_movies['overview'] + df_movies['tagline']\n",
    "df_movies['description'] = df_movies['description'].fillna('')\n",
    "df_movies['description']"
   ]
  },
  {
   "cell_type": "markdown",
   "metadata": {},
   "source": [
    "## Build model"
   ]
  },
  {
   "cell_type": "code",
   "execution_count": 5,
   "metadata": {},
   "outputs": [
    {
     "output_type": "execute_result",
     "data": {
      "text/plain": "(42277, 1047434)"
     },
     "metadata": {},
     "execution_count": 5
    }
   ],
   "source": [
    "## Generate a matrix of common terms that show up in each movie\n",
    "\n",
    "from sklearn.feature_extraction.text import TfidfVectorizer\n",
    "\n",
    "model = TfidfVectorizer(analyzer='word', ngram_range=(1,2), min_df=0, stop_words='english')\n",
    "\n",
    "tfidf_matrix = model.fit_transform(df_movies['description'])\n",
    "tfidf_matrix.shape"
   ]
  },
  {
   "cell_type": "code",
   "execution_count": 6,
   "metadata": {},
   "outputs": [
    {
     "output_type": "execute_result",
     "data": {
      "text/plain": "(42277, 42277)"
     },
     "metadata": {},
     "execution_count": 6
    }
   ],
   "source": [
    "# Calculate the cosine similarity between each pair of movies\n",
    "\n",
    "from sklearn.metrics.pairwise import cosine_similarity\n",
    "\n",
    "cosine_sim = cosine_similarity(tfidf_matrix,tfidf_matrix)\n",
    "cosine_sim.shape"
   ]
  },
  {
   "cell_type": "markdown",
   "metadata": {},
   "source": [
    "## Generate Recommendation"
   ]
  },
  {
   "cell_type": "code",
   "execution_count": 17,
   "metadata": {},
   "outputs": [],
   "source": [
    "titles = df_movies['title']\n",
    "indicies = pd.Series(df_movies.index, index=df_movies['title'])\n",
    "\n",
    "def get_recommendations(title):\n",
    "    idx = indicies[title]\n",
    "    sim_scores = list(enumerate(cosine_sim[idx]))\n",
    "    sim_scores = sorted(sim_scores, key=lambda x: x[1], reverse=True)\n",
    "    sim_scores = sim_scores[1:11]\n",
    "    movie_indicies = [i[0] for i in sim_scores]\n",
    "    return titles.iloc[movie_indicies]"
   ]
  },
  {
   "cell_type": "code",
   "execution_count": 18,
   "metadata": {},
   "outputs": [
    {
     "output_type": "execute_result",
     "data": {
      "text/plain": "44027    The Godfather Trilogy: 1972-1990\n1178               The Godfather: Part II\n31971                    Honor Thy Father\n23125                          Blood Ties\n38027            A Mother Should Be Loved\n18322                     The Outside Man\n11297                    Household Saints\n4324                                 Made\n5433                   Johnny Dangerously\n18224                           Miss Bala\nName: title, dtype: object"
     },
     "metadata": {},
     "execution_count": 18
    }
   ],
   "source": [
    "get_recommendations('The Godfather')"
   ]
  },
  {
   "cell_type": "code",
   "execution_count": 19,
   "metadata": {},
   "outputs": [
    {
     "output_type": "execute_result",
     "data": {
      "text/plain": "21632                  Table No. 21\n9503                      Word Wars\n43124                       The Bar\n8801                        Quintet\n17223                The Dark Angel\n37444            The Ouija Exorcism\n15512               Le Pont du Nord\n34771    Doctor Who: Last Christmas\n44373             Liar Game: Reborn\n35507                      The Mend\nName: title, dtype: object"
     },
     "metadata": {},
     "execution_count": 19
    }
   ],
   "source": [
    "get_recommendations('Jumanji')"
   ]
  },
  {
   "cell_type": "markdown",
   "metadata": {},
   "source": [
    "2. Collaborative Filtering"
   ]
  },
  {
   "cell_type": "code",
   "execution_count": 21,
   "metadata": {},
   "outputs": [
    {
     "output_type": "execute_result",
     "data": {
      "text/plain": "        userId  movieId  rating   timestamp\n99994      671     5952     5.0  1063502716\n99995      671     5989     4.0  1064890625\n99996      671     5991     4.5  1064245387\n99997      671     5995     4.0  1066793014\n99998      671     6212     2.5  1065149436\n99999      671     6268     2.5  1065579370\n100000     671     6269     4.0  1065149201\n100001     671     6365     4.0  1070940363\n100002     671     6385     2.5  1070979663\n100003     671     6565     3.5  1074784724",
      "text/html": "<div>\n<style scoped>\n    .dataframe tbody tr th:only-of-type {\n        vertical-align: middle;\n    }\n\n    .dataframe tbody tr th {\n        vertical-align: top;\n    }\n\n    .dataframe thead th {\n        text-align: right;\n    }\n</style>\n<table border=\"1\" class=\"dataframe\">\n  <thead>\n    <tr style=\"text-align: right;\">\n      <th></th>\n      <th>userId</th>\n      <th>movieId</th>\n      <th>rating</th>\n      <th>timestamp</th>\n    </tr>\n  </thead>\n  <tbody>\n    <tr>\n      <th>99994</th>\n      <td>671</td>\n      <td>5952</td>\n      <td>5.0</td>\n      <td>1063502716</td>\n    </tr>\n    <tr>\n      <th>99995</th>\n      <td>671</td>\n      <td>5989</td>\n      <td>4.0</td>\n      <td>1064890625</td>\n    </tr>\n    <tr>\n      <th>99996</th>\n      <td>671</td>\n      <td>5991</td>\n      <td>4.5</td>\n      <td>1064245387</td>\n    </tr>\n    <tr>\n      <th>99997</th>\n      <td>671</td>\n      <td>5995</td>\n      <td>4.0</td>\n      <td>1066793014</td>\n    </tr>\n    <tr>\n      <th>99998</th>\n      <td>671</td>\n      <td>6212</td>\n      <td>2.5</td>\n      <td>1065149436</td>\n    </tr>\n    <tr>\n      <th>99999</th>\n      <td>671</td>\n      <td>6268</td>\n      <td>2.5</td>\n      <td>1065579370</td>\n    </tr>\n    <tr>\n      <th>100000</th>\n      <td>671</td>\n      <td>6269</td>\n      <td>4.0</td>\n      <td>1065149201</td>\n    </tr>\n    <tr>\n      <th>100001</th>\n      <td>671</td>\n      <td>6365</td>\n      <td>4.0</td>\n      <td>1070940363</td>\n    </tr>\n    <tr>\n      <th>100002</th>\n      <td>671</td>\n      <td>6385</td>\n      <td>2.5</td>\n      <td>1070979663</td>\n    </tr>\n    <tr>\n      <th>100003</th>\n      <td>671</td>\n      <td>6565</td>\n      <td>3.5</td>\n      <td>1074784724</td>\n    </tr>\n  </tbody>\n</table>\n</div>"
     },
     "metadata": {},
     "execution_count": 21
    }
   ],
   "source": [
    "df_users.tail(10)"
   ]
  },
  {
   "cell_type": "code",
   "execution_count": 1,
   "metadata": {},
   "outputs": [
    {
     "output_type": "error",
     "ename": "ModuleNotFoundError",
     "evalue": "No module named 'surprise'",
     "traceback": [
      "\u001b[1;31m---------------------------------------------------------------------------\u001b[0m",
      "\u001b[1;31mModuleNotFoundError\u001b[0m                       Traceback (most recent call last)",
      "\u001b[1;32m<ipython-input-1-ba72d9fd734b>\u001b[0m in \u001b[0;36m<module>\u001b[1;34m\u001b[0m\n\u001b[0;32m      1\u001b[0m \u001b[1;31m# Prepare data into Surprise Library format\u001b[0m\u001b[1;33m\u001b[0m\u001b[1;33m\u001b[0m\u001b[1;33m\u001b[0m\u001b[0m\n\u001b[0;32m      2\u001b[0m \u001b[1;33m\u001b[0m\u001b[0m\n\u001b[1;32m----> 3\u001b[1;33m \u001b[1;32mfrom\u001b[0m \u001b[0msurprise\u001b[0m \u001b[1;32mimport\u001b[0m \u001b[0mDataset\u001b[0m\u001b[1;33m\u001b[0m\u001b[1;33m\u001b[0m\u001b[0m\n\u001b[0m\u001b[0;32m      4\u001b[0m \u001b[1;32mfrom\u001b[0m \u001b[0msurprise\u001b[0m \u001b[1;32mimport\u001b[0m \u001b[0mReader\u001b[0m\u001b[1;33m\u001b[0m\u001b[1;33m\u001b[0m\u001b[0m\n\u001b[0;32m      5\u001b[0m \u001b[1;33m\u001b[0m\u001b[0m\n",
      "\u001b[1;31mModuleNotFoundError\u001b[0m: No module named 'surprise'"
     ]
    }
   ],
   "source": [
    "# Prepare data into Surprise Library format\n",
    "\n",
    "from surprise import Dataset\n",
    "from surprise import Reader\n",
    "\n",
    "# reader = Reader(rating_scale=(1,5))\n",
    "reader = Reader()\n",
    "data = Dataset.load_from_df(df_users[['userId','movieId', 'rating']], reader)\n",
    ""
   ]
  },
  {
   "cell_type": "code",
   "execution_count": null,
   "metadata": {},
   "outputs": [],
   "source": [
    "from surprise.model_selection import train_test_split\n",
    "\n",
    "x_train, x_test = train_test_split(x, test_size=.25)"
   ]
  },
  {
   "cell_type": "code",
   "execution_count": null,
   "metadata": {},
   "outputs": [],
   "source": [
    "# Define SVD model\n",
    "\n",
    "from surprise import SVD\n",
    "model_svd_rating = SVD()"
   ]
  },
  {
   "cell_type": "code",
   "execution_count": null,
   "metadata": {},
   "outputs": [],
   "source": [
    "# Fit SVD model\n",
    "\n",
    "model_svd_rating.fit(x_train)\n",
    "tests_pred = model_svd_rating.test(x_test)"
   ]
  },
  {
   "cell_type": "code",
   "execution_count": null,
   "metadata": {},
   "outputs": [],
   "source": [
    "# Evaluate SVD accuracy\n",
    "\n",
    "from surprise import accuracy\n",
    "\n",
    "accuracy.rmse(tests_pred)"
   ]
  },
  {
   "cell_type": "code",
   "execution_count": null,
   "metadata": {},
   "outputs": [],
   "source": [
    "## Cross-validate\n",
    "\n",
    "from surprise.model_selection import cross_validate\n",
    "\n",
    "cross_validate(model_svd_rating, x, measures=['RMSE','MAE'], cv=5, verbose=True)"
   ]
  },
  {
   "cell_type": "code",
   "execution_count": null,
   "metadata": {},
   "outputs": [],
   "source": [
    "# Predict rating for new movie\n",
    "\n",
    "df_users[df_users['userId']] = "
   ]
  },
  {
   "cell_type": "code",
   "execution_count": null,
   "metadata": {},
   "outputs": [],
   "source": [
    "# Predict what user 1 would have rated movie 302\n",
    "\n",
    "model_svd_rating.predict(1, 302)"
   ]
  }
 ]
}