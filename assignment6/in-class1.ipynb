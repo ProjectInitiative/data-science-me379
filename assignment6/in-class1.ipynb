{
 "nbformat": 4,
 "nbformat_minor": 2,
 "metadata": {
  "language_info": {
   "name": "python",
   "codemirror_mode": {
    "name": "ipython",
    "version": 3
   },
   "version": "3.8.1-final"
  },
  "orig_nbformat": 2,
  "file_extension": ".py",
  "mimetype": "text/x-python",
  "name": "python",
  "npconvert_exporter": "python",
  "pygments_lexer": "ipython3",
  "version": 3,
  "kernelspec": {
   "name": "python38164bitdatascienceme379pipenv8dbb133a52444b59a24c44ecd8ac3f71",
   "display_name": "Python 3.8.1 64-bit ('data-science-me379': pipenv)"
  }
 },
 "cells": [
  {
   "cell_type": "code",
   "execution_count": 1,
   "metadata": {},
   "outputs": [],
   "source": [
    "import os\n",
    "import sys\n",
    "module_path = os.path.abspath(os.path.join('..'))\n",
    "if module_path not in sys.path:\n",
    "    sys.path.append(module_path)\n",
    "if not sys.warnoptions:\n",
    "    import warnings\n",
    "    warnings.simplefilter(\"ignore\")\n",
    "    \n",
    "%matplotlib inline\n",
    "\n",
    "from IPython.core.interactiveshell import InteractiveShell\n",
    "InteractiveShell.ast_node_interactivity = \"all\"\n",
    "\n",
    "import pandas as pd \n",
    "import numpy as np\n",
    "\n",
    "import matplotlib.pyplot as plt\n",
    "\n",
    "from sklearn.preprocessing import scale"
   ]
  },
  {
   "cell_type": "markdown",
   "metadata": {},
   "source": [
    "## Load Data"
   ]
  },
  {
   "cell_type": "code",
   "execution_count": 2,
   "metadata": {},
   "outputs": [],
   "source": [
    "df_movies = pd.read_csv('./movies_metadata_clean.csv', encoding='ISO-8859-1')\n",
    "df_users = pd.read_csv('./movies_ratings_small.csv', encoding='ISO-8859-1')"
   ]
  },
  {
   "cell_type": "markdown",
   "metadata": {},
   "source": [
    "## Build recommendations\n",
    "\n",
    "1. content based filtering"
   ]
  },
  {
   "cell_type": "code",
   "execution_count": 3,
   "metadata": {},
   "outputs": [
    {
     "output_type": "execute_result",
     "data": {
      "text/plain": "(45463, 24)"
     },
     "metadata": {},
     "execution_count": 3
    },
    {
     "output_type": "execute_result",
     "data": {
      "text/plain": "(42277, 24)"
     },
     "metadata": {},
     "execution_count": 3
    }
   ],
   "source": [
    "df_movies.shape\n",
    "\n",
    "# Remove duplicates\n",
    "df_movies.drop_duplicates(subset='title',keep='first',inplace=True)\n",
    "df_movies.shape"
   ]
  },
  {
   "cell_type": "code",
   "execution_count": 4,
   "metadata": {},
   "outputs": [
    {
     "output_type": "execute_result",
     "data": {
      "text/plain": "0        Led by Woody, Andy's toys live happily in his ...\n1        When siblings Judy and Peter discover an encha...\n2        A family wedding reignites the ancient feud be...\n3        Cheated on, mistreated and stepped on, the wom...\n4        Just when George Banks has recovered from his ...\n                               ...                        \n45456    It's the year 3000 AD. The world's most danger...\n45458    Rising and falling between a man and woman.Ris...\n45459    An artist struggles to finish his work while a...\n45461    In a small town live two brothers, one a minis...\n45462    50 years after decriminalisation of homosexual...\nName: description, Length: 42277, dtype: object"
     },
     "metadata": {},
     "execution_count": 4
    }
   ],
   "source": [
    "# Prepare description column\n",
    "\n",
    "df_movies['tagline'] = df_movies['tagline'].fillna('')\n",
    "df_movies['description'] = df_movies['overview'] + df_movies['tagline']\n",
    "df_movies['description'] = df_movies['description'].fillna('')\n",
    "df_movies['description']"
   ]
  },
  {
   "cell_type": "markdown",
   "metadata": {},
   "source": [
    "## Build model"
   ]
  },
  {
   "cell_type": "code",
   "execution_count": 5,
   "metadata": {},
   "outputs": [
    {
     "output_type": "execute_result",
     "data": {
      "text/plain": "(42277, 1047434)"
     },
     "metadata": {},
     "execution_count": 5
    }
   ],
   "source": [
    "## Generate a matrix of common terms that show up in each movie\n",
    "\n",
    "from sklearn.feature_extraction.text import TfidfVectorizer\n",
    "\n",
    "model = TfidfVectorizer(analyzer='word', ngram_range=(1,2), min_df=0, stop_words='english')\n",
    "\n",
    "tfidf_matrix = model.fit_transform(df_movies['description'])\n",
    "tfidf_matrix.shape"
   ]
  },
  {
   "cell_type": "code",
   "execution_count": 6,
   "metadata": {},
   "outputs": [
    {
     "output_type": "execute_result",
     "data": {
      "text/plain": "(42277, 42277)"
     },
     "metadata": {},
     "execution_count": 6
    }
   ],
   "source": [
    "# Calculate the cosine similarity between each pair of movies\n",
    "\n",
    "from sklearn.metrics.pairwise import cosine_similarity\n",
    "\n",
    "cosine_sim = cosine_similarity(tfidf_matrix,tfidf_matrix)\n",
    "cosine_sim.shape"
   ]
  },
  {
   "cell_type": "code",
   "execution_count": null,
   "metadata": {},
   "outputs": [],
   "source": []
  }
 ]
}