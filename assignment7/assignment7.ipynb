{
 "nbformat": 4,
 "nbformat_minor": 2,
 "metadata": {
  "language_info": {
   "name": "python",
   "codemirror_mode": {
    "name": "ipython",
    "version": 3
   },
   "version": "3.8.1-final"
  },
  "orig_nbformat": 2,
  "file_extension": ".py",
  "mimetype": "text/x-python",
  "name": "python",
  "npconvert_exporter": "python",
  "pygments_lexer": "ipython3",
  "version": 3,
  "kernelspec": {
   "name": "python38164bitdatascienceme379pipenv8dbb133a52444b59a24c44ecd8ac3f71",
   "display_name": "Python 3.8.1 64-bit ('data-science-me379': pipenv)"
  }
 },
 "cells": [
  {
   "cell_type": "code",
   "execution_count": 1,
   "metadata": {},
   "outputs": [],
   "source": [
    "import os\n",
    "import sys\n",
    "module_path = os.path.abspath(os.path.join('..'))\n",
    "if module_path not in sys.path:\n",
    "    sys.path.append(module_path)\n",
    "if not sys.warnoptions:\n",
    "    import warnings\n",
    "    warnings.simplefilter(\"ignore\")\n",
    "    \n",
    "%matplotlib inline\n",
    "\n",
    "from IPython.core.interactiveshell import InteractiveShell\n",
    "InteractiveShell.ast_node_interactivity = \"all\""
   ]
  },
  {
   "cell_type": "code",
   "execution_count": 2,
   "metadata": {},
   "outputs": [],
   "source": [
    "from pulp import * \n",
    "\n",
    "# List of suppliers\n",
    "suppliers = [\"PHX\",\"AUS\",\"GNV\"]\n",
    "\n",
    "# Dict for the number of units of supply for each supply node\n",
    "supply = {\n",
    "    \"PHX\" : 700,\n",
    "    \"AUS\" : 200,\n",
    "    \"GNV\" : 200\n",
    "}\n",
    "\n",
    "# List of demand nodes\n",
    "demanders = [\"LAX\",\"DFW\",\"ORD\",\"ATL\",\"JFK\"]\n",
    "# demanders = [1,2,3,4,5]\n",
    "\n",
    "# Dict for the number of units of demand for each demand node\n",
    "demand = {\n",
    "    \"LAX\" : 200,\n",
    "    \"DFW\" : 300,\n",
    "    \"ORD\" : 200,\n",
    "    \"ATL\" : 150,\n",
    "    \"JFK\" : 250\n",
    "}\n",
    "\n",
    "# List of costs of each transportation path\n",
    "costs = [ \n",
    "# -----demanders-----\n",
    "# LAX DFW ORD ATL JFK\n",
    "  [3,  3,  6,  7, -1], # PHX ---------------\n",
    "  [7,  2, -1,  5, -1], # AUS    Suppliers\n",
    "  [-1, 6, -1,  4,  7]  # GNV ---------------\n",
    "]"
   ]
  },
  {
   "cell_type": "code",
   "execution_count": 3,
   "metadata": {},
   "outputs": [
    {
     "output_type": "stream",
     "name": "stdout",
     "text": "{'PHX': {'LAX': Route_PHX_LAX, 'DFW': Route_PHX_DFW, 'ORD': Route_PHX_ORD, 'ATL': Route_PHX_ATL, 'JFK': Route_PHX_JFK}, 'AUS': {'LAX': Route_AUS_LAX, 'DFW': Route_AUS_DFW, 'ORD': Route_AUS_ORD, 'ATL': Route_AUS_ATL, 'JFK': Route_AUS_JFK}, 'GNV': {'LAX': Route_GNV_LAX, 'DFW': Route_GNV_DFW, 'ORD': Route_GNV_ORD, 'ATL': Route_GNV_ATL, 'JFK': Route_GNV_JFK}}\n"
    }
   ],
   "source": [
    "# Create problem variable to contain data\n",
    "prob = LpProblem(\"Shipping Distribution\",LpMinimize)\n",
    "\n",
    "# Create a list of tuples containing all the routes for transportation\n",
    "routes = [(s,d) for s in suppliers for d in demanders]\n",
    "\n",
    "# dict to contain the referenced variables (the routes)\n",
    "route_vars = LpVariable.dicts(\"Route\",(suppliers,demanders),0,None,LpInteger)\n",
    "print(route_vars)\n",
    "\n",
    "# The objective function is added to prob first\n",
    "temp = []\n",
    "for (s,d) in routes:\n",
    "    cost = costs[suppliers.index(s)][demanders.index(d)]\n",
    "    if cost != -1:\n",
    "        temp.append(route_vars[s][d]*cost)\n",
    "prob += lpSum(temp), \"Sum of Transporting Costs\"\n",
    "\n",
    "# The supply maximum constraints are added to prob for each supply node (supplier)\n",
    "for s in suppliers:\n",
    "    prob += lpSum([route_vars[s][d] for d in demanders]) <= supply[s], \"Sum of Products out of Supplier %s\"%s\n",
    "\n",
    "# The demand minimum constraints are added to prob for each demand node (demander)\n",
    "for d in demanders:\n",
    "    prob += lpSum([route_vars[s][d] for s in supply]) >= demand[d], \"Sum of Products into Demander %s\"%d"
   ]
  },
  {
   "cell_type": "code",
   "execution_count": 4,
   "metadata": {},
   "outputs": [
    {
     "output_type": "stream",
     "name": "stdout",
     "text": "Shipping_Distribution:\nMINIMIZE\n5*Route_AUS_ATL + 2*Route_AUS_DFW + 7*Route_AUS_LAX + 4*Route_GNV_ATL + 6*Route_GNV_DFW + 7*Route_GNV_JFK + 7*Route_PHX_ATL + 3*Route_PHX_DFW + 3*Route_PHX_LAX + 6*Route_PHX_ORD + 0\nSUBJECT TO\nSum_of_Products_out_of_Supplier_PHX: Route_PHX_ATL + Route_PHX_DFW\n + Route_PHX_JFK + Route_PHX_LAX + Route_PHX_ORD <= 700\n\nSum_of_Products_out_of_Supplier_AUS: Route_AUS_ATL + Route_AUS_DFW\n + Route_AUS_JFK + Route_AUS_LAX + Route_AUS_ORD <= 200\n\nSum_of_Products_out_of_Supplier_GNV: Route_GNV_ATL + Route_GNV_DFW\n + Route_GNV_JFK + Route_GNV_LAX + Route_GNV_ORD <= 200\n\nSum_of_Products_into_Demander_LAX: Route_AUS_LAX + Route_GNV_LAX\n + Route_PHX_LAX >= 200\n\nSum_of_Products_into_Demander_DFW: Route_AUS_DFW + Route_GNV_DFW\n + Route_PHX_DFW >= 300\n\nSum_of_Products_into_Demander_ORD: Route_AUS_ORD + Route_GNV_ORD\n + Route_PHX_ORD >= 200\n\nSum_of_Products_into_Demander_ATL: Route_AUS_ATL + Route_GNV_ATL\n + Route_PHX_ATL >= 150\n\nSum_of_Products_into_Demander_JFK: Route_AUS_JFK + Route_GNV_JFK\n + Route_PHX_JFK >= 250\n\nVARIABLES\n0 <= Route_AUS_ATL Integer\n0 <= Route_AUS_DFW Integer\n0 <= Route_AUS_JFK Integer\n0 <= Route_AUS_LAX Integer\n0 <= Route_AUS_ORD Integer\n0 <= Route_GNV_ATL Integer\n0 <= Route_GNV_DFW Integer\n0 <= Route_GNV_JFK Integer\n0 <= Route_GNV_LAX Integer\n0 <= Route_GNV_ORD Integer\n0 <= Route_PHX_ATL Integer\n0 <= Route_PHX_DFW Integer\n0 <= Route_PHX_JFK Integer\n0 <= Route_PHX_LAX Integer\n0 <= Route_PHX_ORD Integer\n\n"
    }
   ],
   "source": [
    "print(prob)"
   ]
  }
 ]
}