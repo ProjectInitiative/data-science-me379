{
 "nbformat": 4,
 "nbformat_minor": 2,
 "metadata": {
  "language_info": {
   "name": "python",
   "codemirror_mode": {
    "name": "ipython",
    "version": 3
   },
   "version": "3.8.2-final"
  },
  "orig_nbformat": 2,
  "file_extension": ".py",
  "mimetype": "text/x-python",
  "name": "python",
  "npconvert_exporter": "python",
  "pygments_lexer": "ipython3",
  "version": 3,
  "kernelspec": {
   "name": "python38264bitdatascienceme379pipenv9fb7dd32797e445dacb7f2bc0910bdec",
   "display_name": "Python 3.8.2 64-bit ('data-science-me379': pipenv)"
  }
 },
 "cells": [
  {
   "cell_type": "code",
   "execution_count": 1,
   "metadata": {},
   "outputs": [],
   "source": [
    "import os\n",
    "import sys\n",
    "module_path = os.path.abspath(os.path.join('..'))\n",
    "if module_path not in sys.path:\n",
    "    sys.path.append(module_path)\n",
    "if not sys.warnoptions:\n",
    "    import warnings\n",
    "    warnings.simplefilter(\"ignore\")\n",
    "    \n",
    "%matplotlib inline\n",
    "\n",
    "from IPython.core.interactiveshell import InteractiveShell\n",
    "InteractiveShell.ast_node_interactivity = \"all\""
   ]
  },
  {
   "cell_type": "code",
   "execution_count": 2,
   "metadata": {},
   "outputs": [],
   "source": [
    "import pandas as pd\n",
    "import pulp"
   ]
  },
  {
   "cell_type": "markdown",
   "metadata": {},
   "source": [
    "## Load data"
   ]
  },
  {
   "cell_type": "code",
   "execution_count": 3,
   "metadata": {},
   "outputs": [],
   "source": [
    "supply_data = pd.read_csv('./supply_data.csv', index_col=[0])\n",
    "ship_data = pd.read_csv('./ship_data.csv', index_col=[0,1])"
   ]
  },
  {
   "cell_type": "code",
   "execution_count": 4,
   "metadata": {},
   "outputs": [
    {
     "output_type": "execute_result",
     "data": {
      "text/plain": "      supply\nnode        \nPHX      700\nAUS      200\nGNV      200\nLAX     -200\nDFW     -300\nORD     -200\nATL     -150\nJFK     -250",
      "text/html": "<div>\n<style scoped>\n    .dataframe tbody tr th:only-of-type {\n        vertical-align: middle;\n    }\n\n    .dataframe tbody tr th {\n        vertical-align: top;\n    }\n\n    .dataframe thead th {\n        text-align: right;\n    }\n</style>\n<table border=\"1\" class=\"dataframe\">\n  <thead>\n    <tr style=\"text-align: right;\">\n      <th></th>\n      <th>supply</th>\n    </tr>\n    <tr>\n      <th>node</th>\n      <th></th>\n    </tr>\n  </thead>\n  <tbody>\n    <tr>\n      <th>PHX</th>\n      <td>700</td>\n    </tr>\n    <tr>\n      <th>AUS</th>\n      <td>200</td>\n    </tr>\n    <tr>\n      <th>GNV</th>\n      <td>200</td>\n    </tr>\n    <tr>\n      <th>LAX</th>\n      <td>-200</td>\n    </tr>\n    <tr>\n      <th>DFW</th>\n      <td>-300</td>\n    </tr>\n    <tr>\n      <th>ORD</th>\n      <td>-200</td>\n    </tr>\n    <tr>\n      <th>ATL</th>\n      <td>-150</td>\n    </tr>\n    <tr>\n      <th>JFK</th>\n      <td>-250</td>\n    </tr>\n  </tbody>\n</table>\n</div>"
     },
     "metadata": {},
     "execution_count": 4
    },
    {
     "output_type": "execute_result",
     "data": {
      "text/plain": "                     capacity  cost\nnode_orig node_dest                \nPHX       ORD             200     6\n          ATL             200     7\n          DFW             200     3\n          LAX             200     3\nAUS       LAX             200     7\n          DFW             200     2\n          ATL             200     5\nGNV       DFW             200     6\n          ATL             200     4\n          JFK             200     7\nDFW       LAX             200     5\n          ORD             200     4\n          JFK             200     6\n          ATL             200     2\nATL       JFK             200     5\n          ORD             200     4\n          DFW             200     2",
      "text/html": "<div>\n<style scoped>\n    .dataframe tbody tr th:only-of-type {\n        vertical-align: middle;\n    }\n\n    .dataframe tbody tr th {\n        vertical-align: top;\n    }\n\n    .dataframe thead th {\n        text-align: right;\n    }\n</style>\n<table border=\"1\" class=\"dataframe\">\n  <thead>\n    <tr style=\"text-align: right;\">\n      <th></th>\n      <th></th>\n      <th>capacity</th>\n      <th>cost</th>\n    </tr>\n    <tr>\n      <th>node_orig</th>\n      <th>node_dest</th>\n      <th></th>\n      <th></th>\n    </tr>\n  </thead>\n  <tbody>\n    <tr>\n      <th rowspan=\"4\" valign=\"top\">PHX</th>\n      <th>ORD</th>\n      <td>200</td>\n      <td>6</td>\n    </tr>\n    <tr>\n      <th>ATL</th>\n      <td>200</td>\n      <td>7</td>\n    </tr>\n    <tr>\n      <th>DFW</th>\n      <td>200</td>\n      <td>3</td>\n    </tr>\n    <tr>\n      <th>LAX</th>\n      <td>200</td>\n      <td>3</td>\n    </tr>\n    <tr>\n      <th rowspan=\"3\" valign=\"top\">AUS</th>\n      <th>LAX</th>\n      <td>200</td>\n      <td>7</td>\n    </tr>\n    <tr>\n      <th>DFW</th>\n      <td>200</td>\n      <td>2</td>\n    </tr>\n    <tr>\n      <th>ATL</th>\n      <td>200</td>\n      <td>5</td>\n    </tr>\n    <tr>\n      <th rowspan=\"3\" valign=\"top\">GNV</th>\n      <th>DFW</th>\n      <td>200</td>\n      <td>6</td>\n    </tr>\n    <tr>\n      <th>ATL</th>\n      <td>200</td>\n      <td>4</td>\n    </tr>\n    <tr>\n      <th>JFK</th>\n      <td>200</td>\n      <td>7</td>\n    </tr>\n    <tr>\n      <th rowspan=\"4\" valign=\"top\">DFW</th>\n      <th>LAX</th>\n      <td>200</td>\n      <td>5</td>\n    </tr>\n    <tr>\n      <th>ORD</th>\n      <td>200</td>\n      <td>4</td>\n    </tr>\n    <tr>\n      <th>JFK</th>\n      <td>200</td>\n      <td>6</td>\n    </tr>\n    <tr>\n      <th>ATL</th>\n      <td>200</td>\n      <td>2</td>\n    </tr>\n    <tr>\n      <th rowspan=\"3\" valign=\"top\">ATL</th>\n      <th>JFK</th>\n      <td>200</td>\n      <td>5</td>\n    </tr>\n    <tr>\n      <th>ORD</th>\n      <td>200</td>\n      <td>4</td>\n    </tr>\n    <tr>\n      <th>DFW</th>\n      <td>200</td>\n      <td>2</td>\n    </tr>\n  </tbody>\n</table>\n</div>"
     },
     "metadata": {},
     "execution_count": 4
    }
   ],
   "source": [
    "supply_data\n",
    "ship_data"
   ]
  },
  {
   "cell_type": "markdown",
   "metadata": {},
   "source": [
    "## Build Optimization Model\n",
    "Sets, Parameters, and Variables"
   ]
  },
  {
   "cell_type": "code",
   "execution_count": 5,
   "metadata": {},
   "outputs": [
    {
     "output_type": "execute_result",
     "data": {
      "text/plain": "MultiIndex([('PHX', 'ORD'),\n            ('PHX', 'ATL'),\n            ('PHX', 'DFW'),\n            ('PHX', 'LAX'),\n            ('AUS', 'LAX'),\n            ('AUS', 'DFW'),\n            ('AUS', 'ATL'),\n            ('GNV', 'DFW'),\n            ('GNV', 'ATL'),\n            ('GNV', 'JFK'),\n            ('DFW', 'LAX'),\n            ('DFW', 'ORD'),\n            ('DFW', 'JFK'),\n            ('DFW', 'ATL'),\n            ('ATL', 'JFK'),\n            ('ATL', 'ORD'),\n            ('ATL', 'DFW')],\n           names=['node_orig', 'node_dest'])"
     },
     "metadata": {},
     "execution_count": 5
    }
   ],
   "source": [
    "# Sets \n",
    "N = supply_data.index\n",
    "O = ship_data.index.levels[0]\n",
    "D = ship_data.index.levels[1]\n",
    "OD = ship_data.index\n",
    "OD"
   ]
  },
  {
   "cell_type": "code",
   "execution_count": 6,
   "metadata": {},
   "outputs": [],
   "source": [
    "# Parameters\n",
    "supply = supply_data.loc[:,'supply']\n",
    "cost = ship_data.loc[:,'cost']\n",
    "capacity = ship_data.loc[:,'capacity']"
   ]
  },
  {
   "cell_type": "code",
   "execution_count": 7,
   "metadata": {},
   "outputs": [],
   "source": [
    "# Variables\n",
    "x = pulp.LpVariable.dicts('x',[(o,d) for o,d in OD], lowBound=0,cat='Continuous')"
   ]
  },
  {
   "cell_type": "code",
   "execution_count": 8,
   "metadata": {},
   "outputs": [
    {
     "output_type": "execute_result",
     "data": {
      "text/plain": "{('PHX', 'ORD'): x_('PHX',_'ORD'),\n ('PHX', 'ATL'): x_('PHX',_'ATL'),\n ('PHX', 'DFW'): x_('PHX',_'DFW'),\n ('PHX', 'LAX'): x_('PHX',_'LAX'),\n ('AUS', 'LAX'): x_('AUS',_'LAX'),\n ('AUS', 'DFW'): x_('AUS',_'DFW'),\n ('AUS', 'ATL'): x_('AUS',_'ATL'),\n ('GNV', 'DFW'): x_('GNV',_'DFW'),\n ('GNV', 'ATL'): x_('GNV',_'ATL'),\n ('GNV', 'JFK'): x_('GNV',_'JFK'),\n ('DFW', 'LAX'): x_('DFW',_'LAX'),\n ('DFW', 'ORD'): x_('DFW',_'ORD'),\n ('DFW', 'JFK'): x_('DFW',_'JFK'),\n ('DFW', 'ATL'): x_('DFW',_'ATL'),\n ('ATL', 'JFK'): x_('ATL',_'JFK'),\n ('ATL', 'ORD'): x_('ATL',_'ORD'),\n ('ATL', 'DFW'): x_('ATL',_'DFW')}"
     },
     "metadata": {},
     "execution_count": 8
    }
   ],
   "source": [
    "x"
   ]
  },
  {
   "cell_type": "markdown",
   "metadata": {},
   "source": [
    "## Model"
   ]
  },
  {
   "cell_type": "code",
   "execution_count": 9,
   "metadata": {},
   "outputs": [],
   "source": [
    "# Define the model\n",
    "\n",
    "model = pulp.LpProblem('Cost minimizing network flow problem', pulp.LpMinimize)"
   ]
  },
  {
   "cell_type": "code",
   "execution_count": 10,
   "metadata": {},
   "outputs": [],
   "source": [
    "# Define objective\n",
    "model += pulp.lpSum(\n",
    "    [x[o,d] * cost[o,d] for o,d in OD]\n",
    ")"
   ]
  },
  {
   "cell_type": "code",
   "execution_count": 11,
   "metadata": {},
   "outputs": [],
   "source": [
    "# Add supply/demand constraint at every node\n",
    "for n in N:\n",
    "    model += pulp.lpSum(x.get((n,d),0) for d in D) - pulp.lpSum(x.get((o,n),0) for o in O) == supply[n]"
   ]
  },
  {
   "cell_type": "code",
   "execution_count": 12,
   "metadata": {},
   "outputs": [],
   "source": [
    "# Add edge capacity constraint\n",
    "for o,d in OD:\n",
    "    model += x.get((o,d),0) <= capacity[o,d]"
   ]
  },
  {
   "cell_type": "code",
   "execution_count": 13,
   "metadata": {},
   "outputs": [
    {
     "output_type": "execute_result",
     "data": {
      "text/plain": "1"
     },
     "metadata": {},
     "execution_count": 13
    },
    {
     "output_type": "execute_result",
     "data": {
      "text/plain": "'Optimal'"
     },
     "metadata": {},
     "execution_count": 13
    }
   ],
   "source": [
    "# Run model\n",
    "model.solve()\n",
    "pulp.LpStatus[model.status]"
   ]
  },
  {
   "cell_type": "markdown",
   "metadata": {},
   "source": [
    "## Results"
   ]
  },
  {
   "cell_type": "code",
   "execution_count": 14,
   "metadata": {},
   "outputs": [
    {
     "output_type": "stream",
     "name": "stdout",
     "text": "5300.0\n"
    }
   ],
   "source": [
    "# Minimum cost\n",
    "print(pulp.value(model.objective))"
   ]
  },
  {
   "cell_type": "code",
   "execution_count": 15,
   "metadata": {},
   "outputs": [
    {
     "output_type": "stream",
     "name": "stdout",
     "text": "x_('ATL',_'DFW') = 0.0\nx_('ATL',_'JFK') = 0.0\nx_('ATL',_'ORD') = 0.0\nx_('AUS',_'ATL') = 0.0\nx_('AUS',_'DFW') = 200.0\nx_('AUS',_'LAX') = 0.0\nx_('DFW',_'ATL') = 50.0\nx_('DFW',_'JFK') = 50.0\nx_('DFW',_'LAX') = 0.0\nx_('DFW',_'ORD') = 0.0\nx_('GNV',_'ATL') = 0.0\nx_('GNV',_'DFW') = 0.0\nx_('GNV',_'JFK') = 200.0\nx_('PHX',_'ATL') = 100.0\nx_('PHX',_'DFW') = 200.0\nx_('PHX',_'LAX') = 200.0\nx_('PHX',_'ORD') = 200.0\n"
    }
   ],
   "source": [
    "# Optimal shipment selections\n",
    "for v in model.variables():\n",
    "    print(v.name, '=', v.varValue)"
   ]
  }
 ]
}